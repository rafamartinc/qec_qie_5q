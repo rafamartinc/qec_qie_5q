{
 "cells": [
  {
   "cell_type": "markdown",
   "metadata": {},
   "source": [
    "# Quantum codes do not fix qubit independent errors\n",
    "#### Authors: J. Lacalle, L. M. Pozo-Coronado, A. L. Fonseca de Oliveira, R. Martin-Cuevas"
   ]
  },
  {
   "cell_type": "markdown",
   "metadata": {},
   "source": [
    "Lorem ipsum dolor sit amet, consectetur adipiscing elit, sed do eiusmod tempor incididunt ut labore et dolore magna aliqua. Ut enim ad minim veniam, quis nostrud exercitation ullamco laboris nisi ut aliquip ex ea commodo consequat. Duis aute irure dolor in reprehenderit in voluptate velit esse cillum dolore eu fugiat nulla pariatur. Excepteur sint occaecat cupidatat non proident, sunt in culpa qui officia deserunt mollit anim id est laborum."
   ]
  },
  {
   "cell_type": "markdown",
   "metadata": {},
   "source": [
    "## 1. Finding the basis associated with the 5-qubit quantum code"
   ]
  },
  {
   "cell_type": "markdown",
   "metadata": {},
   "source": [
    "First, we will import the required libraries and set up a few basic variables."
   ]
  },
  {
   "cell_type": "code",
   "execution_count": 19,
   "metadata": {},
   "outputs": [],
   "source": [
    "from sympy import symbols, Symbol, Matrix, I, pprint, diff, re, im, expand, degree\n",
    "from sympy.core.expr import Expr\n",
    "from sympy.physics.quantum import Dagger\n",
    "from sympy.physics.quantum.tensorproduct import TensorProduct\n",
    "from itertools import combinations\n",
    "\n",
    "num_qubits = 5"
   ]
  },
  {
   "cell_type": "markdown",
   "metadata": {},
   "source": [
    "Then, we define the generators used by the 5-qubit quantum code $C$. As we will be using the string themselves to perform calculations on the quantum states, the Dirac notation is avoided when defining these variables."
   ]
  },
  {
   "cell_type": "code",
   "execution_count": 2,
   "metadata": {},
   "outputs": [],
   "source": [
    "L0 = Symbol('00000') - Symbol('00011') + Symbol('00101') - Symbol('00110') + \\\n",
    "     Symbol('01001') + Symbol('01010') - Symbol('01100') - Symbol('01111') - \\\n",
    "     Symbol('10001') + Symbol('10010') + Symbol('10100') - Symbol('10111') - \\\n",
    "     Symbol('11000') - Symbol('11011') - Symbol('11101') - Symbol('11110')\n",
    "\n",
    "L1 = - Symbol('00001') - Symbol('00010') - Symbol('00100') - Symbol('00111') - \\\n",
    "     Symbol('01000') + Symbol('01011') + Symbol('01101') - Symbol('01110') - \\\n",
    "     Symbol('10000') - Symbol('10011') + Symbol('10101') + Symbol('10110') - \\\n",
    "     Symbol('11001') + Symbol('11010') - Symbol('11100') + Symbol('11111')"
   ]
  },
  {
   "cell_type": "markdown",
   "metadata": {},
   "source": [
    "We will now define the Pauli matrices that will be used later on to construct the different discrete errors."
   ]
  },
  {
   "cell_type": "code",
   "execution_count": 3,
   "metadata": {},
   "outputs": [],
   "source": [
    "X = Matrix([[0, 1], [1, 0]])\n",
    "Y = Matrix([[0, -I], [I, 0]])\n",
    "Z = Matrix([[1, 0], [0, -1]])"
   ]
  },
  {
   "cell_type": "markdown",
   "metadata": {},
   "source": [
    "The computational basis ($B_c$) can be defined as follows. We will also define a method to build any binary string, from the non-negative integer in decimal basis that it should represent."
   ]
  },
  {
   "cell_type": "code",
   "execution_count": 4,
   "metadata": {},
   "outputs": [
    {
     "name": "stdout",
     "output_type": "stream",
     "text": [
      "B_c: [00000, 00001, 00010, 00011, 00100, 00101, 00110, 00111, 01000, 01001, 01010, 01011, 01100, 01101, 01110, 01111, 10000, 10001, 10010, 10011, 10100, 10101, 10110, 10111, 11000, 11001, 11010, 11011, 11100, 11101, 11110, 11111]\n"
     ]
    }
   ],
   "source": [
    "def convert_to_binary_string(i: int, num_qubits: int) -> Symbol:\n",
    "    \"\"\"\n",
    "    This method returns the given non-negative integer in decimal basis, expressed as\n",
    "    a binary string with as many digits as required by the second parameter.\n",
    "\n",
    "    :param i: Non-negative integer in decimal basis.\n",
    "    :param num_bits: Length of the resulting binary string.\n",
    "    :return: Sympy symbol containing the desired string as name.\n",
    "    \"\"\"\n",
    "    binary_string = str(bin(i)[2:])\n",
    "    binary_string = ''.join(['0' for _ in range(num_qubits - len(binary_string))]) + binary_string\n",
    "    return Symbol(binary_string)\n",
    "\n",
    "\n",
    "B_c = []  # Computational basis: [ 00000, 00001, ..., 11111 ].\n",
    "for i in range(2 ** num_qubits):\n",
    "    B_c.append(convert_to_binary_string(i, num_qubits))\n",
    "print('B_c:', B_c)"
   ]
  },
  {
   "cell_type": "markdown",
   "metadata": {},
   "source": [
    "The basis associated with the quantum code $C$ ($B$) can be defined as follows, using the Pauli matrices, and aplying them on all the different qubits of each of the quantum states defined as generators, to obtain:\n",
    "$B = [|0_L\\rangle, |1_L\\rangle, X_0|0_L\\rangle, X_0|1_L\\rangle, X_1|0_L\\rangle, X_1|1_L\\rangle, ..., Z_4|0_L\\rangle, Z_4|1_L\\rangle]$\n",
    "\n",
    "We need to define an auxiliary method to apply 1-qubit operation to quantum states, using its string representation to perform the calculation. We will also need another method to obtain which new states could be obtained if we alter one bit of an incoming binary string."
   ]
  },
  {
   "cell_type": "code",
   "execution_count": 5,
   "metadata": {},
   "outputs": [
    {
     "name": "stdout",
     "output_type": "stream",
     "text": [
      "B: [00000 - 00011 + 00101 - 00110 + 01001 + 01010 - 01100 - 01111 - 10001 + 10010 + 10100 - 10111 - 11000 - 11011 - 11101 - 11110, -00001 - 00010 - 00100 - 00111 - 01000 + 01011 + 01101 - 01110 - 10000 - 10011 + 10101 + 10110 - 11001 + 11010 - 11100 + 11111, -00001 + 00010 + 00100 - 00111 - 01000 - 01011 - 01101 - 01110 + 10000 - 10011 + 10101 - 10110 + 11001 + 11010 - 11100 - 11111, -00000 - 00011 + 00101 + 00110 - 01001 + 01010 - 01100 + 01111 - 10001 - 10010 - 10100 - 10111 - 11000 + 11011 + 11101 - 11110, 00001 + 00010 - 00100 - 00111 + 01000 - 01011 + 01101 - 01110 - 10000 - 10011 - 10101 - 10110 - 11001 + 11010 + 11100 - 11111, -00000 + 00011 + 00101 - 00110 - 01001 - 01010 - 01100 - 01111 - 10001 + 10010 - 10100 + 10111 - 11000 - 11011 + 11101 + 11110, 00001 - 00010 + 00100 - 00111 - 01000 - 01011 + 01101 + 01110 + 10000 - 10011 - 10101 + 10110 - 11001 - 11010 - 11100 - 11111, -00000 - 00011 - 00101 - 00110 + 01001 - 01010 - 01100 + 01111 + 10001 + 10010 - 10100 - 10111 - 11000 + 11011 - 11101 + 11110, -00001 + 00010 - 00100 + 00111 + 01000 + 01011 - 01101 - 01110 + 10000 - 10011 - 10101 + 10110 - 11001 - 11010 - 11100 - 11111, -00000 - 00011 - 00101 - 00110 + 01001 - 01010 - 01100 + 01111 - 10001 - 10010 + 10100 + 10111 + 11000 - 11011 + 11101 - 11110, 00001 - 00010 + 00100 - 00111 + 01000 + 01011 - 01101 - 01110 - 10000 + 10011 + 10101 - 10110 - 11001 - 11010 - 11100 - 11111, -00000 - 00011 - 00101 - 00110 - 01001 + 01010 + 01100 - 01111 - 10001 - 10010 + 10100 + 10111 - 11000 + 11011 - 11101 + 11110, I*00001 - I*00010 - I*00100 + I*00111 + I*01000 + I*01011 + I*01101 + I*01110 + I*10000 - I*10011 + I*10101 - I*10110 + I*11001 + I*11010 - I*11100 - I*11111, I*00000 + I*00011 - I*00101 - I*00110 + I*01001 - I*01010 + I*01100 - I*01111 - I*10001 - I*10010 - I*10100 - I*10111 - I*11000 + I*11011 + I*11101 - I*11110, -I*00001 - I*00010 + I*00100 + I*00111 + I*01000 - I*01011 + I*01101 - I*01110 + I*10000 + I*10011 + I*10101 + I*10110 - I*11001 + I*11010 + I*11100 - I*11111, I*00000 - I*00011 - I*00101 + I*00110 - I*01001 - I*01010 - I*01100 - I*01111 + I*10001 - I*10010 + I*10100 - I*10111 - I*11000 - I*11011 + I*11101 + I*11110, -I*00001 + I*00010 + I*00100 - I*00111 + I*01000 + I*01011 + I*01101 + I*01110 - I*10000 + I*10011 - I*10101 + I*10110 + I*11001 + I*11010 - I*11100 - I*11111, I*00000 + I*00011 - I*00101 - I*00110 - I*01001 + I*01010 - I*01100 + I*01111 - I*10001 - I*10010 - I*10100 - I*10111 + I*11000 - I*11011 - I*11101 + I*11110, I*00001 + I*00010 + I*00100 + I*00111 - I*01000 + I*01011 + I*01101 - I*01110 - I*10000 - I*10011 + I*10101 + I*10110 + I*11001 - I*11010 + I*11100 - I*11111, I*00000 - I*00011 + I*00101 - I*00110 - I*01001 - I*01010 + I*01100 + I*01111 + I*10001 - I*10010 - I*10100 + I*10111 - I*11000 - I*11011 - I*11101 - I*11110, I*00001 + I*00010 - I*00100 - I*00111 - I*01000 + I*01011 - I*01101 + I*01110 + I*10000 + I*10011 + I*10101 + I*10110 - I*11001 + I*11010 + I*11100 - I*11111, I*00000 - I*00011 - I*00101 + I*00110 - I*01001 - I*01010 - I*01100 - I*01111 - I*10001 + I*10010 - I*10100 + I*10111 + I*11000 + I*11011 - I*11101 - I*11110, 00000 - 00011 + 00101 - 00110 + 01001 + 01010 - 01100 - 01111 + 10001 - 10010 - 10100 + 10111 + 11000 + 11011 + 11101 + 11110, -00001 - 00010 - 00100 - 00111 - 01000 + 01011 + 01101 - 01110 + 10000 + 10011 - 10101 - 10110 + 11001 - 11010 + 11100 - 11111, 00000 - 00011 + 00101 - 00110 - 01001 - 01010 + 01100 + 01111 - 10001 + 10010 + 10100 - 10111 + 11000 + 11011 + 11101 + 11110, -00001 - 00010 - 00100 - 00111 + 01000 - 01011 - 01101 + 01110 - 10000 - 10011 + 10101 + 10110 + 11001 - 11010 + 11100 - 11111, 00000 - 00011 - 00101 + 00110 + 01001 + 01010 + 01100 + 01111 - 10001 + 10010 - 10100 + 10111 - 11000 - 11011 + 11101 + 11110, -00001 - 00010 + 00100 + 00111 - 01000 + 01011 - 01101 + 01110 - 10000 - 10011 - 10101 - 10110 - 11001 + 11010 + 11100 - 11111, 00000 + 00011 + 00101 + 00110 + 01001 - 01010 - 01100 + 01111 - 10001 - 10010 + 10100 + 10111 - 11000 + 11011 - 11101 + 11110, -00001 + 00010 - 00100 + 00111 - 01000 - 01011 + 01101 + 01110 - 10000 + 10011 + 10101 - 10110 - 11001 - 11010 - 11100 - 11111, 00000 + 00011 - 00101 - 00110 - 01001 + 01010 - 01100 + 01111 + 10001 + 10010 + 10100 + 10111 - 11000 + 11011 + 11101 - 11110, 00001 - 00010 - 00100 + 00111 - 01000 - 01011 - 01101 - 01110 - 10000 + 10011 - 10101 + 10110 + 11001 + 11010 - 11100 - 11111]\n"
     ]
    }
   ],
   "source": [
    "def apply_1qubit_operation(operation: Matrix, target_qubit: int, initial_state: Expr, num_qubits: int) -> Expr:\n",
    "    \"\"\"\n",
    "    This method applies the specified 1-qubit operation to the initial state, on the desired\n",
    "    target qubit, and returns the resulting quantum state.\n",
    "    \n",
    "    :param operation: 2x2 matrix to be applied. \n",
    "    :param target_qubit: Qubit on which it should be applied, one of {0, 1, ..., num_qubits - 1}.\n",
    "    :param initial_state: Initial quantum state, as an expression in terms of elements of the\n",
    "        computational basis, expressed as binary strings.\n",
    "    :param num_qubits: Number of qubits of the quantum state.\n",
    "    :return: New quantum state after applying the operation.\n",
    "    \"\"\"\n",
    "    \n",
    "    final_state = 0\n",
    "\n",
    "    for i in range(2 ** num_qubits):\n",
    "        index = convert_to_binary_string(i, num_qubits)\n",
    "\n",
    "        alpha = initial_state.coeff(index)\n",
    "        state_0, state_1 = get_basis_states_one_bit_apart(index, target_qubit)\n",
    "\n",
    "        initial_qubit_state = Matrix([[1], [0]]) if index.name[target_qubit] == '0' else Matrix([[0], [1]])\n",
    "        final_qubit_state = operation * initial_qubit_state\n",
    "\n",
    "        final_state += alpha * (final_qubit_state[0] * state_0 + final_qubit_state[1] * state_1)\n",
    "\n",
    "    return final_state\n",
    "\n",
    "def get_basis_states_one_bit_apart(reference_state: Symbol, target: int) -> tuple:\n",
    "    \"\"\"\n",
    "    Method used to get the two binary strings that would be obtained if we modify any\n",
    "    one bit of an incoming binary string. E.g.: if we receive the string 00000 and the\n",
    "    integer '1' as target, the two possible outputs will be 00000 and 01000.\n",
    "    \n",
    "    :param reference_state: Incoming binary string. \n",
    "    :param target: Bit that would be altered, one of {0, 1, ..., length - 1}.\n",
    "    :return: Tuple with the new two binary strings.\n",
    "    \"\"\"\n",
    "    reference_state = reference_state.name\n",
    "\n",
    "    return Symbol(reference_state[:target] + '0' + reference_state[target + 1:]), \\\n",
    "           Symbol(reference_state[:target] + '1' + reference_state[target + 1:])\n",
    "\n",
    "B = [L0, L1]  # Basis associated with the code C.\n",
    "for operator in [X, Y, Z]:\n",
    "    for u in range(num_qubits):\n",
    "        for generator in [L0, L1]:\n",
    "            B.append(\n",
    "                apply_1qubit_operation(operator, u, generator, num_qubits)\n",
    "            )\n",
    "print('B:', B)"
   ]
  },
  {
   "cell_type": "markdown",
   "metadata": {},
   "source": [
    "## 2. Finding the change of basis matrices"
   ]
  },
  {
   "cell_type": "markdown",
   "metadata": {},
   "source": [
    "Now we will define the matrix $M$ used to transform from basis $B$ to basis $B_c$. We will define it in two ways, firstly by putting the vectors from $B$, expressed in tearms of $B_c$, as columns. Then, we will define it by using derivatives. After that, we will ensure that we can get all vectors of the base $B$ expressed in the computational basis $B_c$ and that matches the expression of the basis $B$ obtained earlier, and also that both matrices $M$ are equal, as confirmations."
   ]
  },
  {
   "cell_type": "code",
   "execution_count": 6,
   "metadata": {},
   "outputs": [],
   "source": [
    "M = Matrix([\n",
    "    [\n",
    "        B[column].coeff(convert_to_binary_string(row, num_qubits))\n",
    "        for column in range(2 ** num_qubits)\n",
    "    ] for row in range(2 ** num_qubits)\n",
    "])"
   ]
  },
  {
   "cell_type": "code",
   "execution_count": 7,
   "metadata": {},
   "outputs": [],
   "source": [
    "M2 = Matrix([\n",
    "    [\n",
    "        diff(B[j], B_c[i]) for j in range(2 ** num_qubits)\n",
    "    ] for i in range(2 ** num_qubits)\n",
    "])"
   ]
  },
  {
   "cell_type": "code",
   "execution_count": 8,
   "metadata": {},
   "outputs": [
    {
     "name": "stdout",
     "output_type": "stream",
     "text": [
      "Successfully proven that M transforms vectors from B to B_c.\n",
      "Shape of M == M2: (32, 32)\n"
     ]
    }
   ],
   "source": [
    "def get_computational_basis_vector_state(i: int, num_qubits: int) -> Matrix:\n",
    "    \"\"\"\n",
    "    This methods returns a column vector that expresses the quantum state from the\n",
    "    computational basis expressed by the integer 'i', for a quantum state with a total\n",
    "    of 'num_qubits' qubits.\n",
    "\n",
    "    :param i: Non-negative integer in decimal basis.\n",
    "    :param num_qubits: Number of qubits of the resulting quantum state.\n",
    "    :return: Sympy matrix containing the quantum state as a column vector.\n",
    "    \"\"\"\n",
    "    return Matrix([\n",
    "        [\n",
    "            1 if i == j else 0\n",
    "        ] for j in range(2 ** num_qubits)\n",
    "    ])\n",
    "\n",
    "def transform_vector_state_to_expression_state(state: Matrix, num_qubits: int) -> Expr:\n",
    "    \"\"\"\n",
    "    This method converts a column vector to an expression in terms of the states of\n",
    "    the corresponding basis, as binary strings, to be used in methods that use these\n",
    "    binary strings to perform calculations.\n",
    "    \n",
    "    :param state: Matrix containing a quantum state expressed as a column vector.\n",
    "    :param num_qubits: Number of qubits of the quantum state.\n",
    "    :return: Quantum state, as expression with its variables as binary strings.\n",
    "    \"\"\"\n",
    "\n",
    "    result = 0\n",
    "\n",
    "    for j in range(state.shape[0]):\n",
    "        binary_string = convert_to_binary_string(j, num_qubits)\n",
    "        result += state[j, 0] * binary_string\n",
    "\n",
    "    return result\n",
    "\n",
    "assert 0 == sum(M - M2)\n",
    "for i in range(2 ** num_qubits):\n",
    "    state_B_vector = M * get_computational_basis_vector_state(i, num_qubits)\n",
    "    state_B_c_expression = transform_vector_state_to_expression_state(state_B_vector, num_qubits)\n",
    "    assert state_B_c_expression == B[i]  # The program will fail if the assertion is false.\n",
    "print('Successfully proven that M transforms vectors from B to B_c.')\n",
    "\n",
    "print('Shape of M == M2:', M.shape)\n",
    "#pprint(M)"
   ]
  },
  {
   "cell_type": "markdown",
   "metadata": {},
   "source": [
    "## 3. Finding the unitary error operators"
   ]
  },
  {
   "cell_type": "markdown",
   "metadata": {},
   "source": [
    "Now we will define the qubit errors $W_u$ in terms of the coefficients $A_u$, $B_u$, $C_u$ and $D_u$."
   ]
  },
  {
   "cell_type": "code",
   "execution_count": 9,
   "metadata": {},
   "outputs": [
    {
     "name": "stdout",
     "output_type": "stream",
     "text": [
      "W[0]: Matrix([[A_0 + I*B_0, -C_0 + I*D_0], [C_0 + I*D_0, A_0 - I*B_0]])\n",
      "W[1]: Matrix([[A_1 + I*B_1, -C_1 + I*D_1], [C_1 + I*D_1, A_1 - I*B_1]])\n",
      "W[2]: Matrix([[A_2 + I*B_2, -C_2 + I*D_2], [C_2 + I*D_2, A_2 - I*B_2]])\n",
      "W[3]: Matrix([[A_3 + I*B_3, -C_3 + I*D_3], [C_3 + I*D_3, A_3 - I*B_3]])\n",
      "W[4]: Matrix([[A_4 + I*B_4, -C_4 + I*D_4], [C_4 + I*D_4, A_4 - I*B_4]])\n"
     ]
    }
   ],
   "source": [
    "A = symbols('A_0:%d' % num_qubits)  # Define A_0 through A_4.\n",
    "B = symbols('B_0:%d' % num_qubits)  # Define A_0 through A_4.\n",
    "C = symbols('C_0:%d' % num_qubits)  # Define A_0 through A_4.\n",
    "D = symbols('D_0:%d' % num_qubits)  # Define A_0 through A_4.\n",
    "V = A + B + C + D\n",
    "\n",
    "W_u = []\n",
    "for u in range(num_qubits):  # Define W_0 through W_4.\n",
    "    W_u.append(Matrix([\n",
    "        [A[u] + I * B[u], -C[u] + I * D[u]],\n",
    "        [C[u] + I * D[u], A[u] - I * B[u]]\n",
    "    ]))\n",
    "    print('W[%d]:' % u, W_u[u])"
   ]
  },
  {
   "cell_type": "markdown",
   "metadata": {},
   "source": [
    "With this, we can express the unitary error operator for independent qubit errors $W$, and that same operator in the base $B$, $W_B$:"
   ]
  },
  {
   "cell_type": "code",
   "execution_count": 10,
   "metadata": {},
   "outputs": [
    {
     "name": "stdout",
     "output_type": "stream",
     "text": [
      "Shape of W: (32, 32)\n"
     ]
    }
   ],
   "source": [
    "W = TensorProduct(W_u[0], W_u[1], W_u[2], W_u[3], W_u[4])\n",
    "print('Shape of W:', W.shape)\n",
    "#pprint(W)"
   ]
  },
  {
   "cell_type": "code",
   "execution_count": 11,
   "metadata": {},
   "outputs": [
    {
     "name": "stdout",
     "output_type": "stream",
     "text": [
      "Shape of W_B: (32, 32)\n",
      "W[0][0] = 16*A_0*A_1*A_2*A_3*A_4 + 16*I*A_0*A_1*B_3*C_2*C_4 + 16*I*A_0*A_2*B_1*D_3*D_4 + 16*I*A_0*A_3*B_4*D_1*D_2 + 16*I*A_0*A_4*B_2*C_1*C_3 + 16*A_0*B_1*B_4*C_2*C_3 + 16*A_0*B_2*B_3*D_1*D_4 + 16*A_0*C_1*C_4*D_2*D_3 + 16*I*A_1*A_2*B_4*C_0*C_3 + 16*I*A_1*A_3*B_2*D_0*D_4 + 16*I*A_1*A_4*B_0*D_2*D_3 + 16*A_1*B_0*B_2*C_3*C_4 + 16*A_1*B_3*B_4*D_0*D_2 + 16*A_1*C_0*C_2*D_3*D_4 + 16*I*A_2*A_3*B_0*C_1*C_4 + 16*I*A_2*A_4*B_3*D_0*D_1 + 16*A_2*B_0*B_4*D_1*D_3 + 16*A_2*B_1*B_3*C_0*C_4 + 16*A_2*C_1*C_3*D_0*D_4 + 16*I*A_3*A_4*B_1*C_0*C_2 + 16*A_3*B_0*B_1*D_2*D_4 + 16*A_3*B_2*B_4*C_0*C_1 + 16*A_3*C_2*C_4*D_0*D_1 + 16*A_4*B_0*B_3*C_1*C_2 + 16*A_4*B_1*B_2*D_0*D_3 + 16*A_4*C_0*C_3*D_1*D_2 + 16*I*B_0*B_1*B_2*B_3*B_4 + 16*I*B_0*C_2*C_3*D_1*D_4 + 16*I*B_1*C_3*C_4*D_0*D_2 + 16*I*B_2*C_0*C_4*D_1*D_3 + 16*I*B_3*C_0*C_1*D_2*D_4 + 16*I*B_4*C_1*C_2*D_0*D_3\n"
     ]
    }
   ],
   "source": [
    "W_B = Dagger(M) * W * M\n",
    "print('Shape of W_B:', W.shape)\n",
    "print('W[0][0] =', expand(W_B[0, 0]))"
   ]
  },
  {
   "cell_type": "markdown",
   "metadata": {},
   "source": [
    "As discussed in the article, each of the entries in matrix $W_B$ is a homogeneous polynomial of degree 5 in the set of variables $V = \\{A_u, B_u, C_u, D_u | 0 \\le u \\lt 5\\}$, and degree 1 in the subsets of variables of $V$ with subscript $u$ for all $0 \\le u \\lt 5$. Each of this polynomials includes exactly 32 monomials."
   ]
  },
  {
   "cell_type": "markdown",
   "metadata": {},
   "source": [
    "## 4. Disturbing a quantum state"
   ]
  },
  {
   "cell_type": "markdown",
   "metadata": {},
   "source": [
    "We can define a generic quantum state in basis $B$, $\\phi_B$ (phi_B), as follows:"
   ]
  },
  {
   "cell_type": "code",
   "execution_count": 12,
   "metadata": {},
   "outputs": [
    {
     "name": "stdout",
     "output_type": "stream",
     "text": [
      "Shape of phi_B: (32, 1)\n",
      "Matrix([[w_0 + I*w_1], [w_2 + I*w_3], [0], [0], [0], [0], [0], [0], [0], [0], [0], [0], [0], [0], [0], [0], [0], [0], [0], [0], [0], [0], [0], [0], [0], [0], [0], [0], [0], [0], [0], [0]])\n"
     ]
    }
   ],
   "source": [
    "w = symbols('w_0:%d' % 4)  # Define w_0 through w_3.\n",
    "\n",
    "phi_B = Matrix([\n",
    "    [w[0] + I * w[1]],\n",
    "    [w[2] + I * w[3]]\n",
    "] + [\n",
    "    [0]\n",
    "    for _ in range(2 ** num_qubits - 2)\n",
    "])\n",
    "print('Shape of phi_B:', phi_B.shape)\n",
    "print(phi_B)"
   ]
  },
  {
   "cell_type": "markdown",
   "metadata": {},
   "source": [
    "The disturbed quantum state $\\psi_B$ (psi_B) is obtained by multiplying $\\phi_B$ by the error operator $W_B$:"
   ]
  },
  {
   "cell_type": "code",
   "execution_count": 13,
   "metadata": {},
   "outputs": [
    {
     "name": "stdout",
     "output_type": "stream",
     "text": [
      "Shape of psi_B: (32, 1)\n",
      "psi_B[0] = beta_0 = 16*A_0*A_1*A_2*A_3*A_4*w_0 + 16*I*A_0*A_1*A_2*A_3*A_4*w_1 + 16*I*A_0*A_1*B_2*B_4*D_3*w_2 - 16*A_0*A_1*B_2*B_4*D_3*w_3 + 16*I*A_0*A_1*B_3*C_2*C_4*w_0 - 16*A_0*A_1*B_3*C_2*C_4*w_1 - 16*A_0*A_1*C_3*D_2*D_4*w_2 - 16*I*A_0*A_1*C_3*D_2*D_4*w_3 + 16*I*A_0*A_2*B_1*D_3*D_4*w_0 - 16*A_0*A_2*B_1*D_3*D_4*w_1 - 16*A_0*A_2*B_3*B_4*C_1*w_2 - 16*I*A_0*A_2*B_3*B_4*C_1*w_3 + 16*I*A_0*A_2*C_3*C_4*D_1*w_2 - 16*A_0*A_2*C_3*C_4*D_1*w_3 - 16*A_0*A_3*B_1*B_2*C_4*w_2 - 16*I*A_0*A_3*B_1*B_2*C_4*w_3 + 16*I*A_0*A_3*B_4*D_1*D_2*w_0 - 16*A_0*A_3*B_4*D_1*D_2*w_1 + 16*I*A_0*A_3*C_1*C_2*D_4*w_2 - 16*A_0*A_3*C_1*C_2*D_4*w_3 + 16*I*A_0*A_4*B_1*B_3*D_2*w_2 - 16*A_0*A_4*B_1*B_3*D_2*w_3 + 16*I*A_0*A_4*B_2*C_1*C_3*w_0 - 16*A_0*A_4*B_2*C_1*C_3*w_1 - 16*A_0*A_4*C_2*D_1*D_3*w_2 - 16*I*A_0*A_4*C_2*D_1*D_3*w_3 + 16*A_0*B_1*B_4*C_2*C_3*w_0 + 16*I*A_0*B_1*B_4*C_2*C_3*w_1 + 16*A_0*B_2*B_3*D_1*D_4*w_0 + 16*I*A_0*B_2*B_3*D_1*D_4*w_1 + 16*A_0*C_1*C_4*D_2*D_3*w_0 + 16*I*A_0*C_1*C_4*D_2*D_3*w_1 + 16*I*A_1*A_2*B_0*B_3*D_4*w_2 - 16*A_1*A_2*B_0*B_3*D_4*w_3 + 16*I*A_1*A_2*B_4*C_0*C_3*w_0 - 16*A_1*A_2*B_4*C_0*C_3*w_1 - 16*A_1*A_2*C_4*D_0*D_3*w_2 - 16*I*A_1*A_2*C_4*D_0*D_3*w_3 - 16*A_1*A_3*B_0*B_4*C_2*w_2 - 16*I*A_1*A_3*B_0*B_4*C_2*w_3 + 16*I*A_1*A_3*B_2*D_0*D_4*w_0 - 16*A_1*A_3*B_2*D_0*D_4*w_1 + 16*I*A_1*A_3*C_0*C_4*D_2*w_2 - 16*A_1*A_3*C_0*C_4*D_2*w_3 + 16*I*A_1*A_4*B_0*D_2*D_3*w_0 - 16*A_1*A_4*B_0*D_2*D_3*w_1 - 16*A_1*A_4*B_2*B_3*C_0*w_2 - 16*I*A_1*A_4*B_2*B_3*C_0*w_3 + 16*I*A_1*A_4*C_2*C_3*D_0*w_2 - 16*A_1*A_4*C_2*C_3*D_0*w_3 + 16*A_1*B_0*B_2*C_3*C_4*w_0 + 16*I*A_1*B_0*B_2*C_3*C_4*w_1 + 16*A_1*B_3*B_4*D_0*D_2*w_0 + 16*I*A_1*B_3*B_4*D_0*D_2*w_1 + 16*A_1*C_0*C_2*D_3*D_4*w_0 + 16*I*A_1*C_0*C_2*D_3*D_4*w_1 + 16*I*A_2*A_3*B_0*C_1*C_4*w_0 - 16*A_2*A_3*B_0*C_1*C_4*w_1 + 16*I*A_2*A_3*B_1*B_4*D_0*w_2 - 16*A_2*A_3*B_1*B_4*D_0*w_3 - 16*A_2*A_3*C_0*D_1*D_4*w_2 - 16*I*A_2*A_3*C_0*D_1*D_4*w_3 - 16*A_2*A_4*B_0*B_1*C_3*w_2 - 16*I*A_2*A_4*B_0*B_1*C_3*w_3 + 16*I*A_2*A_4*B_3*D_0*D_1*w_0 - 16*A_2*A_4*B_3*D_0*D_1*w_1 + 16*I*A_2*A_4*C_0*C_1*D_3*w_2 - 16*A_2*A_4*C_0*C_1*D_3*w_3 + 16*A_2*B_0*B_4*D_1*D_3*w_0 + 16*I*A_2*B_0*B_4*D_1*D_3*w_1 + 16*A_2*B_1*B_3*C_0*C_4*w_0 + 16*I*A_2*B_1*B_3*C_0*C_4*w_1 + 16*A_2*C_1*C_3*D_0*D_4*w_0 + 16*I*A_2*C_1*C_3*D_0*D_4*w_1 + 16*I*A_3*A_4*B_0*B_2*D_1*w_2 - 16*A_3*A_4*B_0*B_2*D_1*w_3 + 16*I*A_3*A_4*B_1*C_0*C_2*w_0 - 16*A_3*A_4*B_1*C_0*C_2*w_1 - 16*A_3*A_4*C_1*D_0*D_2*w_2 - 16*I*A_3*A_4*C_1*D_0*D_2*w_3 + 16*A_3*B_0*B_1*D_2*D_4*w_0 + 16*I*A_3*B_0*B_1*D_2*D_4*w_1 + 16*A_3*B_2*B_4*C_0*C_1*w_0 + 16*I*A_3*B_2*B_4*C_0*C_1*w_1 + 16*A_3*C_2*C_4*D_0*D_1*w_0 + 16*I*A_3*C_2*C_4*D_0*D_1*w_1 + 16*A_4*B_0*B_3*C_1*C_2*w_0 + 16*I*A_4*B_0*B_3*C_1*C_2*w_1 + 16*A_4*B_1*B_2*D_0*D_3*w_0 + 16*I*A_4*B_1*B_2*D_0*D_3*w_1 + 16*A_4*C_0*C_3*D_1*D_2*w_0 + 16*I*A_4*C_0*C_3*D_1*D_2*w_1 + 16*I*B_0*B_1*B_2*B_3*B_4*w_0 - 16*B_0*B_1*B_2*B_3*B_4*w_1 + 16*I*B_0*B_1*C_2*C_4*D_3*w_2 - 16*B_0*B_1*C_2*C_4*D_3*w_3 - 16*B_0*B_2*C_1*D_3*D_4*w_2 - 16*I*B_0*B_2*C_1*D_3*D_4*w_3 - 16*B_0*B_3*C_4*D_1*D_2*w_2 - 16*I*B_0*B_3*C_4*D_1*D_2*w_3 + 16*I*B_0*B_4*C_1*C_3*D_2*w_2 - 16*B_0*B_4*C_1*C_3*D_2*w_3 + 16*I*B_0*C_2*C_3*D_1*D_4*w_0 - 16*B_0*C_2*C_3*D_1*D_4*w_1 + 16*I*B_1*B_2*C_0*C_3*D_4*w_2 - 16*B_1*B_2*C_0*C_3*D_4*w_3 - 16*B_1*B_3*C_2*D_0*D_4*w_2 - 16*I*B_1*B_3*C_2*D_0*D_4*w_3 - 16*B_1*B_4*C_0*D_2*D_3*w_2 - 16*I*B_1*B_4*C_0*D_2*D_3*w_3 + 16*I*B_1*C_3*C_4*D_0*D_2*w_0 - 16*B_1*C_3*C_4*D_0*D_2*w_1 + 16*I*B_2*B_3*C_1*C_4*D_0*w_2 - 16*B_2*B_3*C_1*C_4*D_0*w_3 - 16*B_2*B_4*C_3*D_0*D_1*w_2 - 16*I*B_2*B_4*C_3*D_0*D_1*w_3 + 16*I*B_2*C_0*C_4*D_1*D_3*w_0 - 16*B_2*C_0*C_4*D_1*D_3*w_1 + 16*I*B_3*B_4*C_0*C_2*D_1*w_2 - 16*B_3*B_4*C_0*C_2*D_1*w_3 + 16*I*B_3*C_0*C_1*D_2*D_4*w_0 - 16*B_3*C_0*C_1*D_2*D_4*w_1 + 16*I*B_4*C_1*C_2*D_0*D_3*w_0 - 16*B_4*C_1*C_2*D_0*D_3*w_1 - 16*C_0*C_1*C_2*C_3*C_4*w_2 - 16*I*C_0*C_1*C_2*C_3*C_4*w_3 + 16*I*D_0*D_1*D_2*D_3*D_4*w_2 - 16*D_0*D_1*D_2*D_3*D_4*w_3\n"
     ]
    }
   ],
   "source": [
    "psi_B = W_B * phi_B\n",
    "print('Shape of psi_B:', psi_B.shape)\n",
    "print('psi_B[0] = beta_0 =', expand(psi_B[0, 0]))"
   ]
  },
  {
   "cell_type": "markdown",
   "metadata": {},
   "source": [
    "The coordinates of $\\psi_B$ are homogeneous polynomials of degree 5 in the set of variables $V$, degree 1 in the subsets of variables of $V$ with subscript $u$ for all $0 \\le u \\lt 5$, and degree 1 in the variables $w_0$, $w_1$, $w_2$ and $w_3$. It can be expressed as $\\psi_B = (\\beta_0, \\beta_1, ..., \\beta_{31})_B$."
   ]
  },
  {
   "cell_type": "markdown",
   "metadata": {},
   "source": [
    "### 4.1 Proving Lemma 1"
   ]
  },
  {
   "cell_type": "markdown",
   "metadata": {},
   "source": [
    "Lemma 1 states that the coordinates of the disturbed state $\\psi_B = (\\beta_0, \\beta_1, ..., \\beta_{31})_B$ satisfy:\n",
    "\n",
    "$$ \\beta_{2s} = (a_s + ib_s)w_0 + (-b_s + ia_s)w_1 + (c_s + id_s)w_2 + (-d_s + ic_s)w_3, 0 \\le s \\lt 16 $$\n",
    "$$ \\beta_{2s+1} = (-c_s + id_s)w_0 + (-d_s - ic_s)w_1 + (a_s - ib_s)w_2 + (b_s + ia_s)w_3, s = 0 $$\n",
    "$$ \\beta_{2s+1} = (c_s - id_s)w_0 + (d_s + ic_s)w_1 + (-a_s + ib_s)w_2 + (-b_s - ia_s)w_3, 0 \\lt s \\lt 16  $$\n",
    "\n",
    "where\n",
    "\n",
    "$$ a_s = Re(\\beta_{2s}(1,0,0,0)), b_s = Im(\\beta_{2s}(1,0,0,0)), $$\n",
    "$$ c_s = Re(\\beta_{2s}(0,0,1,0)), d_s = Im(\\beta_{2s}(0,0,1,0)), $$\n",
    "$$ 0 \\le s \\lt 16 $$"
   ]
  },
  {
   "cell_type": "code",
   "execution_count": 14,
   "metadata": {},
   "outputs": [
    {
     "name": "stdout",
     "output_type": "stream",
     "text": [
      "Lemma 1 successfully proven for beta_2s with s = 0\n",
      "Lemma 1 successfully proven for beta_2s+1 with s = 0\n",
      "Lemma 1 successfully proven for beta_2s with s = 1\n",
      "Lemma 1 successfully proven for beta_2s+1 with s = 1\n",
      "Lemma 1 successfully proven for beta_2s with s = 2\n",
      "Lemma 1 successfully proven for beta_2s+1 with s = 2\n",
      "Lemma 1 successfully proven for beta_2s with s = 3\n",
      "Lemma 1 successfully proven for beta_2s+1 with s = 3\n",
      "Lemma 1 successfully proven for beta_2s with s = 4\n",
      "Lemma 1 successfully proven for beta_2s+1 with s = 4\n",
      "Lemma 1 successfully proven for beta_2s with s = 5\n",
      "Lemma 1 successfully proven for beta_2s+1 with s = 5\n",
      "Lemma 1 successfully proven for beta_2s with s = 6\n",
      "Lemma 1 successfully proven for beta_2s+1 with s = 6\n",
      "Lemma 1 successfully proven for beta_2s with s = 7\n",
      "Lemma 1 successfully proven for beta_2s+1 with s = 7\n",
      "Lemma 1 successfully proven for beta_2s with s = 8\n",
      "Lemma 1 successfully proven for beta_2s+1 with s = 8\n",
      "Lemma 1 successfully proven for beta_2s with s = 9\n",
      "Lemma 1 successfully proven for beta_2s+1 with s = 9\n",
      "Lemma 1 successfully proven for beta_2s with s = 10\n",
      "Lemma 1 successfully proven for beta_2s+1 with s = 10\n",
      "Lemma 1 successfully proven for beta_2s with s = 11\n",
      "Lemma 1 successfully proven for beta_2s+1 with s = 11\n",
      "Lemma 1 successfully proven for beta_2s with s = 12\n",
      "Lemma 1 successfully proven for beta_2s+1 with s = 12\n",
      "Lemma 1 successfully proven for beta_2s with s = 13\n",
      "Lemma 1 successfully proven for beta_2s+1 with s = 13\n",
      "Lemma 1 successfully proven for beta_2s with s = 14\n",
      "Lemma 1 successfully proven for beta_2s+1 with s = 14\n",
      "Lemma 1 successfully proven for beta_2s with s = 15\n",
      "Lemma 1 successfully proven for beta_2s+1 with s = 15\n"
     ]
    }
   ],
   "source": [
    "def separate_real_from_imaginary(expression: Expr) -> tuple:\n",
    "\n",
    "    polynomial = expand(expression)\n",
    "    monomials = expand(expression).args\n",
    "    \n",
    "    real = polynomial  # We will substract the imaginary terms from this polynomial.\n",
    "    imaginary = 0      # We will add the imaginary terms from this polynomial.\n",
    "    \n",
    "    for monomial in monomials:\n",
    "\n",
    "        i = 0\n",
    "        monomial_has_imaginary_unit = False\n",
    "        variables = monomial.args\n",
    "        while i < len(variables) and not monomial_has_imaginary_unit:\n",
    "            if variables[i] == I:\n",
    "                monomial_has_imaginary_unit = True\n",
    "            i += 1\n",
    "\n",
    "        if monomial_has_imaginary_unit:\n",
    "            real -= monomial\n",
    "            imaginary += monomial\n",
    "\n",
    "    return expand(real), expand(imaginary / I)\n",
    "\n",
    "\n",
    "def get_beta_2s(s: int, a_s: Expr, b_s: Expr, c_s: Expr, d_s: Expr, w: list) -> Expr:\n",
    "    \n",
    "    return expand(\n",
    "        (a_s + I*b_s) * w[0] + (-b_s + I*a_s) * w[1] +\n",
    "        (c_s + I*d_s) * w[2] + (-d_s + I*c_s) * w[3]\n",
    "    )\n",
    "\n",
    "\n",
    "def get_beta_2s_1(s: int, a_s: Expr, b_s: Expr, c_s: Expr, d_s: Expr, w: list) -> Expr:\n",
    "    \n",
    "    if s == 0:\n",
    "        return expand(  # When s = 0.\n",
    "            (-c_s + I*d_s) * w[0] + (-d_s - I*c_s) * w[1] +\n",
    "            (a_s - I*b_s) * w[2] + (b_s + I*a_s) * w[3]\n",
    "        )\n",
    "    else:\n",
    "        return expand(  # When 0 < s < 16.\n",
    "            (c_s - I*d_s) * w[0] + (d_s + I*c_s) * w[1] +\n",
    "            (-a_s + I*b_s) * w[2] + (-b_s - I*a_s) * w[3]\n",
    "        )\n",
    "\n",
    "a = []\n",
    "b = []\n",
    "c = []\n",
    "d = []\n",
    "for s in range(16):\n",
    "\n",
    "    beta_2s_1000 = psi_B[2 * s].subs(w[0], 1).subs(w[1], 0).subs(w[2], 0).subs(w[3], 0)\n",
    "    real, imaginary = separate_real_from_imaginary(beta_2s_1000)\n",
    "    a.append(real)       # Save a_s.\n",
    "    b.append(imaginary)  # Save b_s.\n",
    "\n",
    "    beta_2s_0010 = psi_B[2 * s].subs(w[0], 0).subs(w[1], 0).subs(w[2], 1).subs(w[3], 0)\n",
    "    real, imaginary = separate_real_from_imaginary(beta_2s_0010)\n",
    "    c.append(real)       # Save c_s.\n",
    "    d.append(imaginary)  # Save d_s.\n",
    "\n",
    "    # Test beta_2s.\n",
    "    beta_2s = get_beta_2s(s, a[s], b[s], c[s], d[s], w)\n",
    "    psi_B_2s = expand(psi_B[2 * s, 0])\n",
    "    assert beta_2s == psi_B_2s  # The program will fail if the assertion is false.\n",
    "    print('Lemma 1 successfully proven for beta_2s with s = %d' % s)\n",
    "\n",
    "    # Test beta_2s+1.\n",
    "    beta_2s_1 = get_beta_2s_1(s, a[s], b[s], c[s], d[s], w)\n",
    "    psi_B_2s_1 = expand(psi_B[2 * s + 1, 0])\n",
    "    assert beta_2s_1 == psi_B_2s_1  # The program will fail if the assertion is false.\n",
    "    print('Lemma 1 successfully proven for beta_2s+1 with s = %d' % s)"
   ]
  },
  {
   "cell_type": "markdown",
   "metadata": {},
   "source": [
    "### 4.2 Proving Lemma 3"
   ]
  },
  {
   "cell_type": "markdown",
   "metadata": {},
   "source": [
    "Lemma 3 states that\n",
    "\n",
    "$$ a_s = Re(\\beta_{2s}(1,0,0,0)), b_s = Im(\\beta_{2s}(1,0,0,0)), $$\n",
    "$$ c_s = Re(\\beta_{2s}(0,0,1,0)), d_s = Im(\\beta_{2s}(0,0,1,0)), $$\n",
    "$$ 0 \\le s \\lt 16 $$\n",
    "\n",
    "Satisfy the following properties:"
   ]
  },
  {
   "cell_type": "markdown",
   "metadata": {},
   "source": [
    "1) They are homogeneous polynomials of degree 5 in the set of variables $V = \\{A_u, B_u, C_u, D_u | 0 \\le u \\lt 5\\}$, degree 1 in the subsets of variables of $V$, and they are made up of 16 monomials."
   ]
  },
  {
   "cell_type": "code",
   "execution_count": 15,
   "metadata": {},
   "outputs": [
    {
     "name": "stdout",
     "output_type": "stream",
     "text": [
      "Lemma 3, first property, successfully proven for a[0] to a[15]\n",
      "Lemma 3, first property, successfully proven for b[0] to b[15]\n",
      "Lemma 3, first property, successfully proven for c[0] to c[15]\n",
      "Lemma 3, first property, successfully proven for d[0] to d[15]\n"
     ]
    }
   ],
   "source": [
    "for x, name in [(a, 'a'), (b, 'b'), (c, 'c'), (d, 'd')]:\n",
    "    for s in range(16):\n",
    "        \n",
    "        monomials = expand(x[s]).args\n",
    "        \n",
    "        # Polynomials made up of 16 monomials.\n",
    "        assert len(monomials) == 16\n",
    "        \n",
    "        for monomial in monomials:\n",
    "            \n",
    "            monomial_degree = 0\n",
    "            variables = monomial.args\n",
    "            \n",
    "            for variable in variables:\n",
    "                \n",
    "                if variable in V:\n",
    "                    monomial_degree += 1\n",
    "                    \n",
    "                    # Degree 1 in the subsets of variables of 𝑉.\n",
    "                    assert degree(monomial, gen=variable) == 1\n",
    "            \n",
    "            # Degree 5 in the set \n",
    "            assert monomial_degree == 5\n",
    "    \n",
    "    print('Lemma 3, first property, successfully proven for %s[0] to %s[%d]' % (name, name, s))"
   ]
  },
  {
   "cell_type": "markdown",
   "metadata": {},
   "source": [
    "2) The monomials of $a_s$, $b_s$, $c_s$ and $d_s$ for all $0 \\le s \\lt 16$ are different two by two."
   ]
  },
  {
   "cell_type": "code",
   "execution_count": 16,
   "metadata": {},
   "outputs": [
    {
     "name": "stdout",
     "output_type": "stream",
     "text": [
      "Lemma 3, second property, successfully proven for a[0] to a[15]\n",
      "Lemma 3, second property, successfully proven for b[0] to b[15]\n",
      "Lemma 3, second property, successfully proven for c[0] to c[15]\n",
      "Lemma 3, second property, successfully proven for d[0] to d[15]\n"
     ]
    }
   ],
   "source": [
    "all_monomials = {}  # Dictionary used as hash table to keep track of monomials seen.\n",
    "\n",
    "for x, name in [(a, 'a'), (b, 'b'), (c, 'c'), (d, 'd')]:\n",
    "    for s in range(16):\n",
    "        \n",
    "        monomials = expand(x[s]).args\n",
    "        \n",
    "        for monomial in monomials:\n",
    "            \n",
    "            monomial = str(monomial)\n",
    "            assert monomial not in all_monomials.keys()\n",
    "            all_monomials[monomial] = True\n",
    "    \n",
    "    print('Lemma 3, second property, successfully proven for %s[0] to %s[%d]' % (name, name, s))"
   ]
  },
  {
   "cell_type": "markdown",
   "metadata": {},
   "source": [
    "3) For all $0 \\le s \\lt 16$, in each of $a_s$, $b_s$, $c_s$ or $d_s$, every pair of different monomials share exactly one variable."
   ]
  },
  {
   "cell_type": "code",
   "execution_count": 17,
   "metadata": {},
   "outputs": [
    {
     "name": "stdout",
     "output_type": "stream",
     "text": [
      "Lemma 3, third property, successfully proven for a[0] to a[15]\n",
      "Lemma 3, third property, successfully proven for b[0] to b[15]\n",
      "Lemma 3, third property, successfully proven for c[0] to c[15]\n",
      "Lemma 3, third property, successfully proven for d[0] to d[15]\n"
     ]
    }
   ],
   "source": [
    "for x, name in [(a, 'a'), (b, 'b'), (c, 'c'), (d, 'd')]:\n",
    "    for s in range(16):\n",
    "        \n",
    "        monomials = expand(x[s]).args\n",
    "        \n",
    "        i = 0\n",
    "        while i < len(monomials):\n",
    "            monomial_1 = monomials[i]\n",
    "            variables_monomial_1 = monomial_1.args\n",
    "            \n",
    "            j = i + 1\n",
    "            while j < len(monomials):\n",
    "                monomial_2 = monomials[j]\n",
    "                variables_monomial_2 = monomial_2.args\n",
    "                \n",
    "                shared_variables = 0\n",
    "                for variable in variables_monomial_2:\n",
    "                    if variable in V and variable in variables_monomial_1:\n",
    "                        shared_variables += 1\n",
    "                \n",
    "                # Every pair of different monomials within the same polynomial share exactly one variable.\n",
    "                assert shared_variables == 1\n",
    "                \n",
    "                j += 1            \n",
    "            i += 1\n",
    "    \n",
    "    print('Lemma 3, third property, successfully proven for %s[0] to %s[%d]' % (name, name, s))"
   ]
  },
  {
   "cell_type": "markdown",
   "metadata": {},
   "source": [
    "## 5. Classification of monomials by type"
   ]
  },
  {
   "cell_type": "code",
   "execution_count": 18,
   "metadata": {},
   "outputs": [
    {
     "name": "stdout",
     "output_type": "stream",
     "text": [
      "Monomial type count proven for s = 0\n",
      "Monomial type count proven for s = 1\n",
      "Monomial type count proven for s = 2\n",
      "Monomial type count proven for s = 3\n",
      "Monomial type count proven for s = 4\n",
      "Monomial type count proven for s = 5\n",
      "Monomial type count proven for s = 6\n",
      "Monomial type count proven for s = 7\n",
      "Monomial type count proven for s = 8\n",
      "Monomial type count proven for s = 9\n",
      "Monomial type count proven for s = 10\n",
      "Monomial type count proven for s = 11\n",
      "Monomial type count proven for s = 12\n",
      "Monomial type count proven for s = 13\n",
      "Monomial type count proven for s = 14\n",
      "Monomial type count proven for s = 15\n"
     ]
    }
   ],
   "source": [
    "def count_As_in_monomial(monomial: Expr, A: list) -> int:\n",
    "    \n",
    "    result = 0\n",
    "    \n",
    "    for variable in monomial.args:\n",
    "        if variable in A:\n",
    "            result += 1\n",
    "            \n",
    "    return result\n",
    "\n",
    "\n",
    "for s in range(16):\n",
    "    \n",
    "    # Create the list that will keep track of how many instances of each type of monomial are there.\n",
    "    # E.g.: if type_counter[5] == 1, that means that there is one monomial with 5 A's.\n",
    "    # The array goes from counter[0] (0 A's), to counter[5] (5 A's).\n",
    "    type_counter = [0 for _ in range(len(A) + 1)]\n",
    "\n",
    "    for x, name in [(a, 'a'), (b, 'b'), (c, 'c'), (d, 'd')]:\n",
    "\n",
    "        monomials = expand(x[s]).args\n",
    "\n",
    "        for monomial in monomials:\n",
    "\n",
    "            num_As = count_As_in_monomial(monomial, A)\n",
    "            type_counter[num_As] += 1\n",
    "\n",
    "    if s == 0:\n",
    "        assert type_counter == [18, 15, 30, 0, 0, 1]\n",
    "    elif 0 < s < 16:\n",
    "        assert type_counter == [15, 26, 16, 6, 1, 0]\n",
    "    print('Monomial type count proven for s = %d' % (s))"
   ]
  },
  {
   "cell_type": "markdown",
   "metadata": {},
   "source": [
    "## 6. Search of subsets of variables $V$"
   ]
  },
  {
   "cell_type": "code",
   "execution_count": 47,
   "metadata": {},
   "outputs": [
    {
     "name": "stdout",
     "output_type": "stream",
     "text": [
      "s = 1\n",
      "Valid V_s found for s = 1 : (A_0, A_1, A_2, A_3, B_0, B_3, C_1, C_2)\n",
      "Valid V_s found for s = 1 : (A_0, A_1, A_2, A_3, C_0, C_3, D_1, D_2)\n",
      "Valid V_s found for s = 1 : (A_0, A_1, A_2, A_4, B_0, B_1, D_2, D_4)\n",
      "Valid V_s found for s = 1 : (A_0, A_1, A_2, A_4, B_2, B_4, C_0, C_1)\n",
      "Valid V_s found for s = 1 : (A_0, A_1, A_2, B_1, B_2, B_3, C_3, D_0)\n",
      "Valid V_s found for s = 1 : (A_0, A_1, A_2, B_4, C_2, D_0, D_1, D_4)\n",
      "Valid V_s found for s = 1 : (A_0, A_1, A_3, A_4, B_0, B_4, D_1, D_3)\n",
      "Valid V_s found for s = 1 : (A_0, A_1, A_3, A_4, B_1, B_3, C_0, C_4)\n",
      "Valid V_s found for s = 1 : (A_0, A_1, A_3, B_1, C_2, D_0, D_2, D_3)\n",
      "Valid V_s found for s = 1 : (A_0, A_1, A_3, B_4, C_1, C_3, C_4, D_0)\n",
      "Valid V_s found for s = 1 : (A_0, A_1, A_4, B_2, C_4, D_0, D_1, D_2)\n",
      "Valid V_s found for s = 1 : (A_0, A_1, A_4, B_3, C_1, D_0, D_3, D_4)\n",
      "Valid V_s found for s = 1 : (A_0, A_1, B_0, B_1, B_2, B_4, C_2, C_4)\n",
      "Valid V_s found for s = 1 : (A_0, A_1, B_0, B_2, C_1, C_3, D_2, D_3)\n",
      "Valid V_s found for s = 1 : (A_0, A_1, B_0, B_3, C_3, C_4, D_1, D_4)\n",
      "Valid V_s found for s = 1 : (A_0, A_1, B_1, B_4, C_0, C_3, D_3, D_4)\n",
      "Valid V_s found for s = 1 : (A_0, A_1, B_2, B_3, C_0, C_2, D_1, D_3)\n",
      "Valid V_s found for s = 1 : (A_0, A_1, C_0, C_1, C_2, C_4, D_2, D_4)\n",
      "Valid V_s found for s = 1 : (A_0, A_2, A_3, A_4, B_0, B_2, C_3, C_4)\n",
      "Valid V_s found for s = 1 : (A_0, A_2, A_3, A_4, C_0, C_2, D_3, D_4)\n",
      "Valid V_s found for s = 1 : (A_0, A_2, A_3, B_2, C_1, D_0, D_1, D_3)\n",
      "Valid V_s found for s = 1 : (A_0, A_2, A_3, B_3, C_4, D_0, D_2, D_4)\n",
      "Valid V_s found for s = 1 : (A_0, A_2, A_4, B_1, C_1, C_2, C_4, D_0)\n",
      "Valid V_s found for s = 1 : (A_0, A_2, A_4, B_4, C_3, D_0, D_2, D_3)\n",
      "Valid V_s found for s = 1 : (A_0, A_2, B_0, B_1, C_2, C_3, D_1, D_3)\n",
      "Valid V_s found for s = 1 : (A_0, A_2, B_0, B_2, B_3, B_4, D_3, D_4)\n",
      "Valid V_s found for s = 1 : (A_0, A_2, B_0, B_4, C_1, C_4, D_1, D_2)\n",
      "Valid V_s found for s = 1 : (A_0, A_2, B_1, B_2, C_0, C_4, D_1, D_4)\n",
      "Valid V_s found for s = 1 : (A_0, A_2, B_1, B_3, C_0, C_1, D_2, D_3)\n",
      "Valid V_s found for s = 1 : (A_0, A_2, B_3, B_4, C_0, C_2, C_3, C_4)\n",
      "Valid V_s found for s = 1 : (A_0, A_3, A_4, B_1, C_3, D_0, D_1, D_4)\n",
      "Valid V_s found for s = 1 : (A_0, A_3, A_4, B_2, B_3, B_4, C_2, D_0)\n",
      "Valid V_s found for s = 1 : (A_0, A_3, B_0, B_1, B_2, B_3, D_1, D_2)\n",
      "Valid V_s found for s = 1 : (A_0, A_3, B_0, B_1, C_1, C_4, D_3, D_4)\n",
      "Valid V_s found for s = 1 : (A_0, A_3, B_0, B_4, C_2, C_3, D_2, D_4)\n",
      "Valid V_s found for s = 1 : (A_0, A_3, B_1, B_2, C_0, C_1, C_2, C_3)\n",
      "Valid V_s found for s = 1 : (A_0, A_3, B_2, B_4, C_0, C_4, D_2, D_3)\n",
      "Valid V_s found for s = 1 : (A_0, A_3, B_3, B_4, C_0, C_1, D_1, D_4)\n"
     ]
    },
    {
     "ename": "KeyboardInterrupt",
     "evalue": "",
     "output_type": "error",
     "traceback": [
      "\u001b[0;31m---------------------------------------------------------------------------\u001b[0m",
      "\u001b[0;31mKeyboardInterrupt\u001b[0m                         Traceback (most recent call last)",
      "\u001b[0;32m<ipython-input-47-dd2f271cb78c>\u001b[0m in \u001b[0;36m<module>\u001b[0;34m\u001b[0m\n\u001b[1;32m     35\u001b[0m                 \u001b[0mmonomial\u001b[0m \u001b[0;34m=\u001b[0m \u001b[0mmonomials\u001b[0m\u001b[0;34m[\u001b[0m\u001b[0mmonomial_index\u001b[0m\u001b[0;34m]\u001b[0m\u001b[0;34m\u001b[0m\u001b[0;34m\u001b[0m\u001b[0m\n\u001b[1;32m     36\u001b[0m \u001b[0;34m\u001b[0m\u001b[0m\n\u001b[0;32m---> 37\u001b[0;31m                 \u001b[0mnumber_of_shared_variables\u001b[0m \u001b[0;34m=\u001b[0m \u001b[0mlen\u001b[0m\u001b[0;34m(\u001b[0m\u001b[0mintersection\u001b[0m\u001b[0;34m(\u001b[0m\u001b[0mmonomial\u001b[0m\u001b[0;34m.\u001b[0m\u001b[0margs\u001b[0m\u001b[0;34m,\u001b[0m \u001b[0mcombination\u001b[0m\u001b[0;34m)\u001b[0m\u001b[0;34m)\u001b[0m\u001b[0;34m\u001b[0m\u001b[0;34m\u001b[0m\u001b[0m\n\u001b[0m\u001b[1;32m     38\u001b[0m                 \u001b[0;32mif\u001b[0m \u001b[0mnumber_of_shared_variables\u001b[0m \u001b[0;34m%\u001b[0m \u001b[0;36m2\u001b[0m \u001b[0;34m!=\u001b[0m \u001b[0;36m1\u001b[0m\u001b[0;34m:\u001b[0m\u001b[0;34m\u001b[0m\u001b[0;34m\u001b[0m\u001b[0m\n\u001b[1;32m     39\u001b[0m                     \u001b[0mis_valid\u001b[0m \u001b[0;34m=\u001b[0m \u001b[0;32mFalse\u001b[0m\u001b[0;34m\u001b[0m\u001b[0;34m\u001b[0m\u001b[0m\n",
      "\u001b[0;32m<ipython-input-47-dd2f271cb78c>\u001b[0m in \u001b[0;36mintersection\u001b[0;34m(a, b)\u001b[0m\n\u001b[1;32m      4\u001b[0m \u001b[0;34m\u001b[0m\u001b[0m\n\u001b[1;32m      5\u001b[0m     \u001b[0;32mfor\u001b[0m \u001b[0ma_i\u001b[0m \u001b[0;32min\u001b[0m \u001b[0ma\u001b[0m\u001b[0;34m:\u001b[0m\u001b[0;34m\u001b[0m\u001b[0;34m\u001b[0m\u001b[0m\n\u001b[0;32m----> 6\u001b[0;31m         \u001b[0;32mif\u001b[0m \u001b[0ma_i\u001b[0m \u001b[0;32min\u001b[0m \u001b[0mb\u001b[0m\u001b[0;34m:\u001b[0m\u001b[0;34m\u001b[0m\u001b[0;34m\u001b[0m\u001b[0m\n\u001b[0m\u001b[1;32m      7\u001b[0m             \u001b[0mresult\u001b[0m\u001b[0;34m.\u001b[0m\u001b[0mappend\u001b[0m\u001b[0;34m(\u001b[0m\u001b[0ma_i\u001b[0m\u001b[0;34m)\u001b[0m\u001b[0;34m\u001b[0m\u001b[0;34m\u001b[0m\u001b[0m\n\u001b[1;32m      8\u001b[0m \u001b[0;34m\u001b[0m\u001b[0m\n",
      "\u001b[0;32m/usr/local/lib/python3.8/dist-packages/sympy/core/expr.py\u001b[0m in \u001b[0;36m__eq__\u001b[0;34m(self, other)\u001b[0m\n\u001b[1;32m    123\u001b[0m \u001b[0;34m\u001b[0m\u001b[0m\n\u001b[1;32m    124\u001b[0m     \u001b[0;32mdef\u001b[0m \u001b[0m__eq__\u001b[0m\u001b[0;34m(\u001b[0m\u001b[0mself\u001b[0m\u001b[0;34m,\u001b[0m \u001b[0mother\u001b[0m\u001b[0;34m)\u001b[0m\u001b[0;34m:\u001b[0m\u001b[0;34m\u001b[0m\u001b[0;34m\u001b[0m\u001b[0m\n\u001b[0;32m--> 125\u001b[0;31m         \u001b[0;32mtry\u001b[0m\u001b[0;34m:\u001b[0m\u001b[0;34m\u001b[0m\u001b[0;34m\u001b[0m\u001b[0m\n\u001b[0m\u001b[1;32m    126\u001b[0m             \u001b[0mother\u001b[0m \u001b[0;34m=\u001b[0m \u001b[0m_sympify\u001b[0m\u001b[0;34m(\u001b[0m\u001b[0mother\u001b[0m\u001b[0;34m)\u001b[0m\u001b[0;34m\u001b[0m\u001b[0;34m\u001b[0m\u001b[0m\n\u001b[1;32m    127\u001b[0m             \u001b[0;32mif\u001b[0m \u001b[0;32mnot\u001b[0m \u001b[0misinstance\u001b[0m\u001b[0;34m(\u001b[0m\u001b[0mother\u001b[0m\u001b[0;34m,\u001b[0m \u001b[0mExpr\u001b[0m\u001b[0;34m)\u001b[0m\u001b[0;34m:\u001b[0m\u001b[0;34m\u001b[0m\u001b[0;34m\u001b[0m\u001b[0m\n",
      "\u001b[0;31mKeyboardInterrupt\u001b[0m: "
     ]
    }
   ],
   "source": [
    "def intersection(a: list, b: list) -> list:\n",
    "    \n",
    "    result = []\n",
    "    \n",
    "    for a_i in a:\n",
    "        if a_i in b:\n",
    "            result.append(a_i)\n",
    "\n",
    "    return result\n",
    "\n",
    "get_all_combinations = True\n",
    "combinations_ABCD = list(combinations(A + B + C + D, 8))\n",
    "\n",
    "for s in range(1, 16):\n",
    "    \n",
    "    print('s =', s)\n",
    "    \n",
    "    possible_combinations = list(combinations_ABCD)\n",
    "    combination_index = 0\n",
    "    keep_searching = True\n",
    "    \n",
    "    while combination_index < len(possible_combinations) and keep_searching:\n",
    "        \n",
    "        combination = possible_combinations[combination_index]\n",
    "        is_valid = True\n",
    "        \n",
    "        polynomials = [a[s], b[s], c[s], d[s]]\n",
    "        polynomial_index = 0\n",
    "        while polynomial_index < len(polynomials) and is_valid:\n",
    "            polynomial = polynomials[polynomial_index]\n",
    "                   \n",
    "            monomials = expand(polynomial).args\n",
    "            monomial_index = 0\n",
    "            while monomial_index < len(monomials) and is_valid:\n",
    "                monomial = monomials[monomial_index]\n",
    "\n",
    "                number_of_shared_variables = len(intersection(monomial.args, combination))\n",
    "                if number_of_shared_variables % 2 != 1:\n",
    "                    is_valid = False\n",
    "                    #print(combination, 'discarded:', number_of_shared_variables, 'shared variables with', monomial.args)\n",
    "\n",
    "                monomial_index += 1 \n",
    "            \n",
    "            polynomial_index += 1        \n",
    "        \n",
    "        if is_valid:\n",
    "            print('Valid V_s found for s =', s, ':', combination)\n",
    "            \n",
    "            if get_all_combinations:\n",
    "                combination_index += 1\n",
    "            else:\n",
    "                keep_searching = False\n",
    "        else:\n",
    "            combination_index += 1\n",
    "            \n",
    "# Improve with an amplitude-first search algorithm for trees."
   ]
  },
  {
   "cell_type": "code",
   "execution_count": null,
   "metadata": {},
   "outputs": [],
   "source": []
  }
 ],
 "metadata": {
  "kernelspec": {
   "display_name": "Python 3",
   "language": "python",
   "name": "python3"
  },
  "language_info": {
   "codemirror_mode": {
    "name": "ipython",
    "version": 3
   },
   "file_extension": ".py",
   "mimetype": "text/x-python",
   "name": "python",
   "nbconvert_exporter": "python",
   "pygments_lexer": "ipython3",
   "version": "3.8.5"
  }
 },
 "nbformat": 4,
 "nbformat_minor": 4
}
