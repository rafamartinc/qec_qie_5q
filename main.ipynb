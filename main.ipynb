{
 "cells": [
  {
   "cell_type": "markdown",
   "metadata": {},
   "source": [
    "# Quantum codes do not fix qubit independent errors\n",
    "#### Authors: J. Lacalle, L. M. Pozo-Coronado, A. L. Fonseca de Oliveira, R. Martin-Cuevas"
   ]
  },
  {
   "cell_type": "markdown",
   "metadata": {},
   "source": [
    "Lorem ipsum dolor sit amet, consectetur adipiscing elit, sed do eiusmod tempor incididunt ut labore et dolore magna aliqua. Ut enim ad minim veniam, quis nostrud exercitation ullamco laboris nisi ut aliquip ex ea commodo consequat. Duis aute irure dolor in reprehenderit in voluptate velit esse cillum dolore eu fugiat nulla pariatur. Excepteur sint occaecat cupidatat non proident, sunt in culpa qui officia deserunt mollit anim id est laborum."
   ]
  },
  {
   "cell_type": "markdown",
   "metadata": {},
   "source": [
    "## 1. Finding the basis associated with the 5-qubit quantum code"
   ]
  },
  {
   "cell_type": "markdown",
   "metadata": {},
   "source": [
    "First, we will import the required libraries and set up a few basic variables."
   ]
  },
  {
   "cell_type": "code",
   "execution_count": 2,
   "metadata": {},
   "outputs": [],
   "source": [
    "from sympy import symbols, Symbol, Matrix, I, pprint, diff, re, im\n",
    "from sympy.core.expr import Expr\n",
    "from sympy.physics.quantum import Dagger\n",
    "from sympy.physics.quantum.tensorproduct import TensorProduct\n",
    "\n",
    "num_qubits = 5"
   ]
  },
  {
   "cell_type": "markdown",
   "metadata": {},
   "source": [
    "Then, we define the generators used by the 5-qubit quantum code $C$. As we will be using the string themselves to perform calculations on the quantum states, the Dirac notation is avoided when defining these variables."
   ]
  },
  {
   "cell_type": "code",
   "execution_count": 3,
   "metadata": {},
   "outputs": [],
   "source": [
    "L0 = Symbol('00000') - Symbol('00011') + Symbol('00101') - Symbol('00110') + \\\n",
    "     Symbol('01001') + Symbol('01010') - Symbol('01100') - Symbol('01111') - \\\n",
    "     Symbol('10001') + Symbol('10010') + Symbol('10100') - Symbol('10111') - \\\n",
    "     Symbol('11000') - Symbol('11011') - Symbol('11101') - Symbol('11110')\n",
    "\n",
    "L1 = - Symbol('00001') - Symbol('00010') - Symbol('00100') - Symbol('00111') - \\\n",
    "     Symbol('01000') + Symbol('01011') + Symbol('01101') - Symbol('01110') - \\\n",
    "     Symbol('10000') - Symbol('10011') + Symbol('10101') + Symbol('10110') - \\\n",
    "     Symbol('11001') + Symbol('11010') - Symbol('11100') + Symbol('11111')"
   ]
  },
  {
   "cell_type": "markdown",
   "metadata": {},
   "source": [
    "We will now define the Pauli matrices that will be used later on to construct the different discrete errors."
   ]
  },
  {
   "cell_type": "code",
   "execution_count": 4,
   "metadata": {},
   "outputs": [],
   "source": [
    "X = Matrix([[0, 1], [1, 0]])\n",
    "Y = Matrix([[0, -I], [I, 0]])\n",
    "Z = Matrix([[1, 0], [0, -1]])"
   ]
  },
  {
   "cell_type": "markdown",
   "metadata": {},
   "source": [
    "The computational basis ($B_c$) can be defined as follows. We will also define a method to build any binary string, from the non-negative integer in decimal basis that it should represent."
   ]
  },
  {
   "cell_type": "code",
   "execution_count": 5,
   "metadata": {},
   "outputs": [
    {
     "name": "stdout",
     "output_type": "stream",
     "text": [
      "B_c: [00000, 00001, 00010, 00011, 00100, 00101, 00110, 00111, 01000, 01001, 01010, 01011, 01100, 01101, 01110, 01111, 10000, 10001, 10010, 10011, 10100, 10101, 10110, 10111, 11000, 11001, 11010, 11011, 11100, 11101, 11110, 11111]\n"
     ]
    }
   ],
   "source": [
    "def convert_to_binary_string(i: int, num_qubits: int) -> Symbol:\n",
    "    \"\"\"\n",
    "    This method returns the given non-negative integer in decimal basis, expressed as\n",
    "    a binary string with as many digits as required by the second parameter.\n",
    "\n",
    "    :param i: Non-negative integer in decimal basis.\n",
    "    :param num_bits: Length of the resulting binary string.\n",
    "    :return: Sympy symbol containing the desired string as name.\n",
    "    \"\"\"\n",
    "    binary_string = str(bin(i)[2:])\n",
    "    binary_string = ''.join(['0' for _ in range(num_qubits - len(binary_string))]) + binary_string\n",
    "    return Symbol(binary_string)\n",
    "\n",
    "\n",
    "B_c = []  # Computational basis: [ 00000, 00001, ..., 11111 ].\n",
    "for i in range(2 ** num_qubits):\n",
    "    B_c.append(convert_to_binary_string(i, num_qubits))\n",
    "print('B_c:', B_c)"
   ]
  },
  {
   "cell_type": "markdown",
   "metadata": {},
   "source": [
    "The basis associated with the quantum code $C$ ($B$) can be defined as follows, using the Pauli matrices, and aplying them on all the different qubits of each of the quantum states defined as generators, to obtain:\n",
    "$B = [|0_L\\rangle, |1_L\\rangle, X_0|0_L\\rangle, X_0|1_L\\rangle, X_1|0_L\\rangle, X_1|1_L\\rangle, ..., Z_4|0_L\\rangle, Z_4|1_L\\rangle]$\n",
    "\n",
    "We need to define an auxiliary method to apply 1-qubit operation to quantum states, using its string representation to perform the calculation. We will also need another method to obtain which new states could be obtained if we alter one bit of an incoming binary string."
   ]
  },
  {
   "cell_type": "code",
   "execution_count": 6,
   "metadata": {},
   "outputs": [
    {
     "name": "stdout",
     "output_type": "stream",
     "text": [
      "B: [00000 - 00011 + 00101 - 00110 + 01001 + 01010 - 01100 - 01111 - 10001 + 10010 + 10100 - 10111 - 11000 - 11011 - 11101 - 11110, -00001 - 00010 - 00100 - 00111 - 01000 + 01011 + 01101 - 01110 - 10000 - 10011 + 10101 + 10110 - 11001 + 11010 - 11100 + 11111, -00001 + 00010 + 00100 - 00111 - 01000 - 01011 - 01101 - 01110 + 10000 - 10011 + 10101 - 10110 + 11001 + 11010 - 11100 - 11111, -00000 - 00011 + 00101 + 00110 - 01001 + 01010 - 01100 + 01111 - 10001 - 10010 - 10100 - 10111 - 11000 + 11011 + 11101 - 11110, 00001 + 00010 - 00100 - 00111 + 01000 - 01011 + 01101 - 01110 - 10000 - 10011 - 10101 - 10110 - 11001 + 11010 + 11100 - 11111, -00000 + 00011 + 00101 - 00110 - 01001 - 01010 - 01100 - 01111 - 10001 + 10010 - 10100 + 10111 - 11000 - 11011 + 11101 + 11110, 00001 - 00010 + 00100 - 00111 - 01000 - 01011 + 01101 + 01110 + 10000 - 10011 - 10101 + 10110 - 11001 - 11010 - 11100 - 11111, -00000 - 00011 - 00101 - 00110 + 01001 - 01010 - 01100 + 01111 + 10001 + 10010 - 10100 - 10111 - 11000 + 11011 - 11101 + 11110, -00001 + 00010 - 00100 + 00111 + 01000 + 01011 - 01101 - 01110 + 10000 - 10011 - 10101 + 10110 - 11001 - 11010 - 11100 - 11111, -00000 - 00011 - 00101 - 00110 + 01001 - 01010 - 01100 + 01111 - 10001 - 10010 + 10100 + 10111 + 11000 - 11011 + 11101 - 11110, 00001 - 00010 + 00100 - 00111 + 01000 + 01011 - 01101 - 01110 - 10000 + 10011 + 10101 - 10110 - 11001 - 11010 - 11100 - 11111, -00000 - 00011 - 00101 - 00110 - 01001 + 01010 + 01100 - 01111 - 10001 - 10010 + 10100 + 10111 - 11000 + 11011 - 11101 + 11110, I*00001 - I*00010 - I*00100 + I*00111 + I*01000 + I*01011 + I*01101 + I*01110 + I*10000 - I*10011 + I*10101 - I*10110 + I*11001 + I*11010 - I*11100 - I*11111, I*00000 + I*00011 - I*00101 - I*00110 + I*01001 - I*01010 + I*01100 - I*01111 - I*10001 - I*10010 - I*10100 - I*10111 - I*11000 + I*11011 + I*11101 - I*11110, -I*00001 - I*00010 + I*00100 + I*00111 + I*01000 - I*01011 + I*01101 - I*01110 + I*10000 + I*10011 + I*10101 + I*10110 - I*11001 + I*11010 + I*11100 - I*11111, I*00000 - I*00011 - I*00101 + I*00110 - I*01001 - I*01010 - I*01100 - I*01111 + I*10001 - I*10010 + I*10100 - I*10111 - I*11000 - I*11011 + I*11101 + I*11110, -I*00001 + I*00010 + I*00100 - I*00111 + I*01000 + I*01011 + I*01101 + I*01110 - I*10000 + I*10011 - I*10101 + I*10110 + I*11001 + I*11010 - I*11100 - I*11111, I*00000 + I*00011 - I*00101 - I*00110 - I*01001 + I*01010 - I*01100 + I*01111 - I*10001 - I*10010 - I*10100 - I*10111 + I*11000 - I*11011 - I*11101 + I*11110, I*00001 + I*00010 + I*00100 + I*00111 - I*01000 + I*01011 + I*01101 - I*01110 - I*10000 - I*10011 + I*10101 + I*10110 + I*11001 - I*11010 + I*11100 - I*11111, I*00000 - I*00011 + I*00101 - I*00110 - I*01001 - I*01010 + I*01100 + I*01111 + I*10001 - I*10010 - I*10100 + I*10111 - I*11000 - I*11011 - I*11101 - I*11110, I*00001 + I*00010 - I*00100 - I*00111 - I*01000 + I*01011 - I*01101 + I*01110 + I*10000 + I*10011 + I*10101 + I*10110 - I*11001 + I*11010 + I*11100 - I*11111, I*00000 - I*00011 - I*00101 + I*00110 - I*01001 - I*01010 - I*01100 - I*01111 - I*10001 + I*10010 - I*10100 + I*10111 + I*11000 + I*11011 - I*11101 - I*11110, 00000 - 00011 + 00101 - 00110 + 01001 + 01010 - 01100 - 01111 + 10001 - 10010 - 10100 + 10111 + 11000 + 11011 + 11101 + 11110, -00001 - 00010 - 00100 - 00111 - 01000 + 01011 + 01101 - 01110 + 10000 + 10011 - 10101 - 10110 + 11001 - 11010 + 11100 - 11111, 00000 - 00011 + 00101 - 00110 - 01001 - 01010 + 01100 + 01111 - 10001 + 10010 + 10100 - 10111 + 11000 + 11011 + 11101 + 11110, -00001 - 00010 - 00100 - 00111 + 01000 - 01011 - 01101 + 01110 - 10000 - 10011 + 10101 + 10110 + 11001 - 11010 + 11100 - 11111, 00000 - 00011 - 00101 + 00110 + 01001 + 01010 + 01100 + 01111 - 10001 + 10010 - 10100 + 10111 - 11000 - 11011 + 11101 + 11110, -00001 - 00010 + 00100 + 00111 - 01000 + 01011 - 01101 + 01110 - 10000 - 10011 - 10101 - 10110 - 11001 + 11010 + 11100 - 11111, 00000 + 00011 + 00101 + 00110 + 01001 - 01010 - 01100 + 01111 - 10001 - 10010 + 10100 + 10111 - 11000 + 11011 - 11101 + 11110, -00001 + 00010 - 00100 + 00111 - 01000 - 01011 + 01101 + 01110 - 10000 + 10011 + 10101 - 10110 - 11001 - 11010 - 11100 - 11111, 00000 + 00011 - 00101 - 00110 - 01001 + 01010 - 01100 + 01111 + 10001 + 10010 + 10100 + 10111 - 11000 + 11011 + 11101 - 11110, 00001 - 00010 - 00100 + 00111 - 01000 - 01011 - 01101 - 01110 - 10000 + 10011 - 10101 + 10110 + 11001 + 11010 - 11100 - 11111]\n"
     ]
    }
   ],
   "source": [
    "def apply_1qubit_operation(operation: Matrix, target_qubit: int, initial_state: Expr, num_qubits: int) -> Expr:\n",
    "    \"\"\"\n",
    "    This method applies the specified 1-qubit operation to the initial state, on the desired\n",
    "    target qubit, and returns the resulting quantum state.\n",
    "    \n",
    "    :param operation: 2x2 matrix to be applied. \n",
    "    :param target_qubit: Qubit on which it should be applied, one of {0, 1, ..., num_qubits - 1}.\n",
    "    :param initial_state: Initial quantum state, as an expression in terms of elements of the\n",
    "        computational basis, expressed as binary strings.\n",
    "    :param num_qubits: Number of qubits of the quantum state.\n",
    "    :return: New quantum state after applying the operation.\n",
    "    \"\"\"\n",
    "    \n",
    "    final_state = 0\n",
    "\n",
    "    for i in range(2 ** num_qubits):\n",
    "        index = convert_to_binary_string(i, num_qubits)\n",
    "\n",
    "        alpha = initial_state.coeff(index)\n",
    "        state_0, state_1 = get_basis_states_one_bit_apart(index, target_qubit)\n",
    "\n",
    "        initial_qubit_state = Matrix([[1], [0]]) if index.name[target_qubit] == '0' else Matrix([[0], [1]])\n",
    "        final_qubit_state = operation * initial_qubit_state\n",
    "\n",
    "        final_state += alpha * (final_qubit_state[0] * state_0 + final_qubit_state[1] * state_1)\n",
    "\n",
    "    return final_state\n",
    "\n",
    "def get_basis_states_one_bit_apart(reference_state: Symbol, target: int) -> tuple:\n",
    "    \"\"\"\n",
    "    Method used to get the two binary strings that would be obtained if we modify any\n",
    "    one bit of an incoming binary string. E.g.: if we receive the string 00000 and the\n",
    "    integer '1' as target, the two possible outputs will be 00000 and 01000.\n",
    "    \n",
    "    :param reference_state: Incoming binary string. \n",
    "    :param target: Bit that would be altered, one of {0, 1, ..., length - 1}.\n",
    "    :return: Tuple with the new two binary strings.\n",
    "    \"\"\"\n",
    "    reference_state = reference_state.name\n",
    "\n",
    "    return Symbol(reference_state[:target] + '0' + reference_state[target + 1:]), \\\n",
    "           Symbol(reference_state[:target] + '1' + reference_state[target + 1:])\n",
    "\n",
    "B = [L0, L1]  # Basis associated with the code C.\n",
    "for operator in [X, Y, Z]:\n",
    "    for u in range(num_qubits):\n",
    "        for generator in [L0, L1]:\n",
    "            B.append(\n",
    "                apply_1qubit_operation(operator, u, generator, num_qubits)\n",
    "            )\n",
    "print('B:', B)"
   ]
  },
  {
   "cell_type": "markdown",
   "metadata": {},
   "source": [
    "## 2. Finding the change of basis matrices"
   ]
  },
  {
   "cell_type": "markdown",
   "metadata": {},
   "source": [
    "Now we will define the matrix $M$ used to transform from basis $B$ to basis $B_c$. We will define it in two ways, firstly by putting the vectors from $B$, expressed in tearms of $B_c$, as columns. Then, we will define it by using derivatives. After that, we will ensure that we can get all vectors of the base $B$ expressed in the computational basis $B_c$ and that matches the expression of the basis $B$ obtained earlier, and also that both matrices $M$ are equal, as confirmations."
   ]
  },
  {
   "cell_type": "code",
   "execution_count": 7,
   "metadata": {},
   "outputs": [],
   "source": [
    "M = Matrix([\n",
    "    [\n",
    "        B[column].coeff(convert_to_binary_string(row, num_qubits))\n",
    "        for column in range(2 ** num_qubits)\n",
    "    ] for row in range(2 ** num_qubits)\n",
    "])"
   ]
  },
  {
   "cell_type": "code",
   "execution_count": 8,
   "metadata": {},
   "outputs": [],
   "source": [
    "M2 = Matrix([\n",
    "    [\n",
    "        diff(B[j], B_c[i]) for j in range(2 ** num_qubits)\n",
    "    ] for i in range(2 ** num_qubits)\n",
    "])"
   ]
  },
  {
   "cell_type": "code",
   "execution_count": 9,
   "metadata": {},
   "outputs": [
    {
     "name": "stdout",
     "output_type": "stream",
     "text": [
      "Shape of M == M2: (32, 32)\n"
     ]
    }
   ],
   "source": [
    "def get_computational_basis_vector_state(i: int, num_qubits: int) -> Matrix:\n",
    "    \"\"\"\n",
    "    This methods returns a column vector that expresses the quantum state from the\n",
    "    computational basis expressed by the integer 'i', for a quantum state with a total\n",
    "    of 'num_qubits' qubits.\n",
    "\n",
    "    :param i: Non-negative integer in decimal basis.\n",
    "    :param num_qubits: Number of qubits of the resulting quantum state.\n",
    "    :return: Sympy matrix containing the quantum state as a column vector.\n",
    "    \"\"\"\n",
    "    return Matrix([\n",
    "        [\n",
    "            1 if i == j else 0\n",
    "        ] for j in range(2 ** num_qubits)\n",
    "    ])\n",
    "\n",
    "def transform_vector_state_to_expression_state(state: Matrix, num_qubits: int) -> Expr:\n",
    "    \"\"\"\n",
    "    This method converts a column vector to an expression in terms of the states of\n",
    "    the corresponding basis, as binary strings, to be used in methods that use these\n",
    "    binary strings to perform calculations.\n",
    "    \n",
    "    :param state: Matrix containing a quantum state expressed as a column vector.\n",
    "    :param num_qubits: Number of qubits of the quantum state.\n",
    "    :return: Quantum state, as expression with its variables as binary strings.\n",
    "    \"\"\"\n",
    "\n",
    "    result = 0\n",
    "\n",
    "    for j in range(state.shape[0]):\n",
    "        binary_string = convert_to_binary_string(j, num_qubits)\n",
    "        result += state[j, 0] * binary_string\n",
    "\n",
    "    return result\n",
    "\n",
    "assert 0 == sum(M - M2)\n",
    "for i in range(2 ** num_qubits):\n",
    "    state_B_vector = M * get_computational_basis_vector_state(i, num_qubits)\n",
    "    state_B_c_expression = transform_vector_state_to_expression_state(state_B_vector, num_qubits)\n",
    "    assert state_B_c_expression == B[i]\n",
    "\n",
    "print('Shape of M == M2:', M.shape)\n",
    "#pprint(M)"
   ]
  },
  {
   "cell_type": "markdown",
   "metadata": {},
   "source": [
    "## 3. Finding the unitary error operators"
   ]
  },
  {
   "cell_type": "markdown",
   "metadata": {},
   "source": [
    "Now we will define the qubit errors $W_u$ in terms of the coefficients $A_u$, $B_u$, $C_u$ and $D_u$."
   ]
  },
  {
   "cell_type": "code",
   "execution_count": 10,
   "metadata": {},
   "outputs": [
    {
     "name": "stdout",
     "output_type": "stream",
     "text": [
      "W[0]: Matrix([[A_0 + I*B_0, -C_0 + I*D_0], [C_0 + I*D_0, A_0 - I*B_0]])\n",
      "W[1]: Matrix([[A_1 + I*B_1, -C_1 + I*D_1], [C_1 + I*D_1, A_1 - I*B_1]])\n",
      "W[2]: Matrix([[A_2 + I*B_2, -C_2 + I*D_2], [C_2 + I*D_2, A_2 - I*B_2]])\n",
      "W[3]: Matrix([[A_3 + I*B_3, -C_3 + I*D_3], [C_3 + I*D_3, A_3 - I*B_3]])\n",
      "W[4]: Matrix([[A_4 + I*B_4, -C_4 + I*D_4], [C_4 + I*D_4, A_4 - I*B_4]])\n"
     ]
    }
   ],
   "source": [
    "A = symbols('A_0:%d' % num_qubits)  # Define A_0 through A_4.\n",
    "B = symbols('B_0:%d' % num_qubits)  # Define A_0 through A_4.\n",
    "C = symbols('C_0:%d' % num_qubits)  # Define A_0 through A_4.\n",
    "D = symbols('D_0:%d' % num_qubits)  # Define A_0 through A_4.\n",
    "\n",
    "W_u = []\n",
    "for u in range(num_qubits):  # Define W_0 through W_4.\n",
    "    W_u.append(Matrix([\n",
    "        [A[u] + I * B[u], -C[u] + I * D[u]],\n",
    "        [C[u] + I * D[u], A[u] - I * B[u]]\n",
    "    ]))\n",
    "    print('W[%d]:' % u, W_u[u])"
   ]
  },
  {
   "cell_type": "markdown",
   "metadata": {},
   "source": [
    "With this, we can express the unitary error operator for independent qubit errors $W$, and that same operator in the base $B$, $W_B$:"
   ]
  },
  {
   "cell_type": "code",
   "execution_count": 11,
   "metadata": {},
   "outputs": [
    {
     "name": "stdout",
     "output_type": "stream",
     "text": [
      "Shape of W: (32, 32)\n"
     ]
    }
   ],
   "source": [
    "W = TensorProduct(W_u[0], W_u[1], W_u[2], W_u[3], W_u[4])\n",
    "print('Shape of W:', W.shape)\n",
    "#pprint(W)"
   ]
  },
  {
   "cell_type": "code",
   "execution_count": 12,
   "metadata": {},
   "outputs": [
    {
     "name": "stdout",
     "output_type": "stream",
     "text": [
      "Shape of W_B: (32, 32)\n"
     ]
    }
   ],
   "source": [
    "W_B = Dagger(M) * W * M\n",
    "print('Shape of W_B:', W.shape)\n",
    "#pprint(W_B)"
   ]
  },
  {
   "cell_type": "markdown",
   "metadata": {},
   "source": [
    "## 4. Disturbing a quantum state"
   ]
  }
 ],
 "metadata": {
  "kernelspec": {
   "display_name": "Python 3",
   "language": "python",
   "name": "python3"
  },
  "language_info": {
   "codemirror_mode": {
    "name": "ipython",
    "version": 3
   },
   "file_extension": ".py",
   "mimetype": "text/x-python",
   "name": "python",
   "nbconvert_exporter": "python",
   "pygments_lexer": "ipython3",
   "version": "3.8.5"
  }
 },
 "nbformat": 4,
 "nbformat_minor": 4
}
