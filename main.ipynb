{
 "cells": [
  {
   "cell_type": "markdown",
   "metadata": {},
   "source": [
    "# Quantum codes do not fix qubit independent errors\n",
    "#### Authors: J. Lacalle, L. M. Pozo-Coronado, A. L. Fonseca de Oliveira, R. Martin-Cuevas"
   ]
  },
  {
   "cell_type": "markdown",
   "metadata": {},
   "source": [
    "This notebook complements the homonymous article written by the authors, by proving several claims made in the article with the assistance of a symbolic calculus library for Python."
   ]
  },
  {
   "cell_type": "markdown",
   "metadata": {},
   "source": [
    "First of all, we will import the required libraries and set up a few basic variables and tools."
   ]
  },
  {
   "cell_type": "code",
   "execution_count": 1,
   "metadata": {},
   "outputs": [],
   "source": [
    "from sympy import symbols, Symbol, Matrix, I, pprint, diff, re, im, expand, degree\n",
    "from sympy.core.expr import Expr\n",
    "from sympy.physics.quantum import Dagger\n",
    "from sympy.physics.quantum.tensorproduct import TensorProduct\n",
    "from itertools import combinations\n",
    "\n",
    "num_qubits = 5\n",
    "\n",
    "def intersection(a: list, b: list) -> list:\n",
    "    \"\"\"\n",
    "    Returns the intersection of two lists: a new list containing the elements\n",
    "    that appeared in both input lists.\n",
    "    \n",
    "    :param a: First list to consider.\n",
    "    :param b: Second list to consider.\n",
    "    :result: Resulting list.\n",
    "    \"\"\"\n",
    "    result = []\n",
    "    \n",
    "    for a_i in a:\n",
    "        if a_i in b:\n",
    "            result.append(a_i)\n",
    "    \n",
    "    return result"
   ]
  },
  {
   "cell_type": "markdown",
   "metadata": {},
   "source": [
    "## 1. Finding the basis associated with the 5-qubit quantum code"
   ]
  },
  {
   "cell_type": "markdown",
   "metadata": {},
   "source": [
    "We will start this section by defining the generators used by the 5-qubit quantum code $C$. As we will be using the string themselves to perform calculations on the quantum states, the Dirac notation is avoided when defining these variables."
   ]
  },
  {
   "cell_type": "code",
   "execution_count": 2,
   "metadata": {},
   "outputs": [],
   "source": [
    "L0 = Symbol('00000') - Symbol('00011') + Symbol('00101') - Symbol('00110') + \\\n",
    "     Symbol('01001') + Symbol('01010') - Symbol('01100') - Symbol('01111') - \\\n",
    "     Symbol('10001') + Symbol('10010') + Symbol('10100') - Symbol('10111') - \\\n",
    "     Symbol('11000') - Symbol('11011') - Symbol('11101') - Symbol('11110')\n",
    "\n",
    "L1 = - Symbol('00001') - Symbol('00010') - Symbol('00100') - Symbol('00111') - \\\n",
    "     Symbol('01000') + Symbol('01011') + Symbol('01101') - Symbol('01110') - \\\n",
    "     Symbol('10000') - Symbol('10011') + Symbol('10101') + Symbol('10110') - \\\n",
    "     Symbol('11001') + Symbol('11010') - Symbol('11100') + Symbol('11111')"
   ]
  },
  {
   "cell_type": "markdown",
   "metadata": {},
   "source": [
    "We will now define the Pauli matrices that will be used later on to construct the different discrete errors."
   ]
  },
  {
   "cell_type": "code",
   "execution_count": 3,
   "metadata": {},
   "outputs": [],
   "source": [
    "X = Matrix([[0, 1], [1, 0]])\n",
    "Y = Matrix([[0, -I], [I, 0]])\n",
    "Z = Matrix([[1, 0], [0, -1]])"
   ]
  },
  {
   "cell_type": "markdown",
   "metadata": {},
   "source": [
    "The computational basis ($B_c$) can be defined as follows. We will also define a method to build any binary string, from the non-negative integer in decimal basis that it should represent."
   ]
  },
  {
   "cell_type": "code",
   "execution_count": 4,
   "metadata": {},
   "outputs": [
    {
     "name": "stdout",
     "output_type": "stream",
     "text": [
      "B_c: [00000, 00001, 00010, 00011, 00100, 00101, 00110, 00111, 01000, 01001, 01010, 01011, 01100, 01101, 01110, 01111, 10000, 10001, 10010, 10011, 10100, 10101, 10110, 10111, 11000, 11001, 11010, 11011, 11100, 11101, 11110, 11111]\n"
     ]
    }
   ],
   "source": [
    "def convert_to_binary_string(i: int, num_qubits: int) -> Symbol:\n",
    "    \"\"\"\n",
    "    This method returns the given non-negative integer in decimal basis, expressed as\n",
    "    a binary string with as many digits as required by the second parameter.\n",
    "\n",
    "    :param i: Non-negative integer in decimal basis.\n",
    "    :param num_bits: Length of the resulting binary string.\n",
    "    :return: Sympy symbol containing the desired string as name.\n",
    "    \"\"\"\n",
    "    binary_string = str(bin(i)[2:])\n",
    "    binary_string = ''.join(['0' for _ in range(num_qubits - len(binary_string))]) + binary_string\n",
    "    return Symbol(binary_string)\n",
    "\n",
    "\n",
    "B_c = []  # Computational basis: [00000, 00001, ..., 11111].\n",
    "for i in range(2 ** num_qubits):\n",
    "    B_c.append(convert_to_binary_string(i, num_qubits))\n",
    "print('B_c:', B_c)"
   ]
  },
  {
   "cell_type": "markdown",
   "metadata": {},
   "source": [
    "The basis associated with the quantum code $C$ ($B$) can be defined as follows, using the Pauli matrices, and aplying them on all the different qubits of each of the quantum states defined as generators, to obtain:\n",
    "$B = [|0_L\\rangle, |1_L\\rangle, X_0|0_L\\rangle, X_0|1_L\\rangle, X_1|0_L\\rangle, X_1|1_L\\rangle, ..., Z_4|0_L\\rangle, Z_4|1_L\\rangle]$\n",
    "\n",
    "We need to define an auxiliary method to apply 1-qubit operation to quantum states, using its string representation to perform the calculation. We will also need another method to obtain which new states could be obtained if we alter one bit of an incoming binary string."
   ]
  },
  {
   "cell_type": "code",
   "execution_count": 5,
   "metadata": {},
   "outputs": [
    {
     "name": "stdout",
     "output_type": "stream",
     "text": [
      "B: [00000 - 00011 + 00101 - 00110 + 01001 + 01010 - 01100 - 01111 - 10001 + 10010 + 10100 - 10111 - 11000 - 11011 - 11101 - 11110, -00001 - 00010 - 00100 - 00111 - 01000 + 01011 + 01101 - 01110 - 10000 - 10011 + 10101 + 10110 - 11001 + 11010 - 11100 + 11111, -00001 + 00010 + 00100 - 00111 - 01000 - 01011 - 01101 - 01110 + 10000 - 10011 + 10101 - 10110 + 11001 + 11010 - 11100 - 11111, -00000 - 00011 + 00101 + 00110 - 01001 + 01010 - 01100 + 01111 - 10001 - 10010 - 10100 - 10111 - 11000 + 11011 + 11101 - 11110, 00001 + 00010 - 00100 - 00111 + 01000 - 01011 + 01101 - 01110 - 10000 - 10011 - 10101 - 10110 - 11001 + 11010 + 11100 - 11111, -00000 + 00011 + 00101 - 00110 - 01001 - 01010 - 01100 - 01111 - 10001 + 10010 - 10100 + 10111 - 11000 - 11011 + 11101 + 11110, 00001 - 00010 + 00100 - 00111 - 01000 - 01011 + 01101 + 01110 + 10000 - 10011 - 10101 + 10110 - 11001 - 11010 - 11100 - 11111, -00000 - 00011 - 00101 - 00110 + 01001 - 01010 - 01100 + 01111 + 10001 + 10010 - 10100 - 10111 - 11000 + 11011 - 11101 + 11110, -00001 + 00010 - 00100 + 00111 + 01000 + 01011 - 01101 - 01110 + 10000 - 10011 - 10101 + 10110 - 11001 - 11010 - 11100 - 11111, -00000 - 00011 - 00101 - 00110 + 01001 - 01010 - 01100 + 01111 - 10001 - 10010 + 10100 + 10111 + 11000 - 11011 + 11101 - 11110, 00001 - 00010 + 00100 - 00111 + 01000 + 01011 - 01101 - 01110 - 10000 + 10011 + 10101 - 10110 - 11001 - 11010 - 11100 - 11111, -00000 - 00011 - 00101 - 00110 - 01001 + 01010 + 01100 - 01111 - 10001 - 10010 + 10100 + 10111 - 11000 + 11011 - 11101 + 11110, I*00001 - I*00010 - I*00100 + I*00111 + I*01000 + I*01011 + I*01101 + I*01110 + I*10000 - I*10011 + I*10101 - I*10110 + I*11001 + I*11010 - I*11100 - I*11111, I*00000 + I*00011 - I*00101 - I*00110 + I*01001 - I*01010 + I*01100 - I*01111 - I*10001 - I*10010 - I*10100 - I*10111 - I*11000 + I*11011 + I*11101 - I*11110, -I*00001 - I*00010 + I*00100 + I*00111 + I*01000 - I*01011 + I*01101 - I*01110 + I*10000 + I*10011 + I*10101 + I*10110 - I*11001 + I*11010 + I*11100 - I*11111, I*00000 - I*00011 - I*00101 + I*00110 - I*01001 - I*01010 - I*01100 - I*01111 + I*10001 - I*10010 + I*10100 - I*10111 - I*11000 - I*11011 + I*11101 + I*11110, -I*00001 + I*00010 + I*00100 - I*00111 + I*01000 + I*01011 + I*01101 + I*01110 - I*10000 + I*10011 - I*10101 + I*10110 + I*11001 + I*11010 - I*11100 - I*11111, I*00000 + I*00011 - I*00101 - I*00110 - I*01001 + I*01010 - I*01100 + I*01111 - I*10001 - I*10010 - I*10100 - I*10111 + I*11000 - I*11011 - I*11101 + I*11110, I*00001 + I*00010 + I*00100 + I*00111 - I*01000 + I*01011 + I*01101 - I*01110 - I*10000 - I*10011 + I*10101 + I*10110 + I*11001 - I*11010 + I*11100 - I*11111, I*00000 - I*00011 + I*00101 - I*00110 - I*01001 - I*01010 + I*01100 + I*01111 + I*10001 - I*10010 - I*10100 + I*10111 - I*11000 - I*11011 - I*11101 - I*11110, I*00001 + I*00010 - I*00100 - I*00111 - I*01000 + I*01011 - I*01101 + I*01110 + I*10000 + I*10011 + I*10101 + I*10110 - I*11001 + I*11010 + I*11100 - I*11111, I*00000 - I*00011 - I*00101 + I*00110 - I*01001 - I*01010 - I*01100 - I*01111 - I*10001 + I*10010 - I*10100 + I*10111 + I*11000 + I*11011 - I*11101 - I*11110, 00000 - 00011 + 00101 - 00110 + 01001 + 01010 - 01100 - 01111 + 10001 - 10010 - 10100 + 10111 + 11000 + 11011 + 11101 + 11110, -00001 - 00010 - 00100 - 00111 - 01000 + 01011 + 01101 - 01110 + 10000 + 10011 - 10101 - 10110 + 11001 - 11010 + 11100 - 11111, 00000 - 00011 + 00101 - 00110 - 01001 - 01010 + 01100 + 01111 - 10001 + 10010 + 10100 - 10111 + 11000 + 11011 + 11101 + 11110, -00001 - 00010 - 00100 - 00111 + 01000 - 01011 - 01101 + 01110 - 10000 - 10011 + 10101 + 10110 + 11001 - 11010 + 11100 - 11111, 00000 - 00011 - 00101 + 00110 + 01001 + 01010 + 01100 + 01111 - 10001 + 10010 - 10100 + 10111 - 11000 - 11011 + 11101 + 11110, -00001 - 00010 + 00100 + 00111 - 01000 + 01011 - 01101 + 01110 - 10000 - 10011 - 10101 - 10110 - 11001 + 11010 + 11100 - 11111, 00000 + 00011 + 00101 + 00110 + 01001 - 01010 - 01100 + 01111 - 10001 - 10010 + 10100 + 10111 - 11000 + 11011 - 11101 + 11110, -00001 + 00010 - 00100 + 00111 - 01000 - 01011 + 01101 + 01110 - 10000 + 10011 + 10101 - 10110 - 11001 - 11010 - 11100 - 11111, 00000 + 00011 - 00101 - 00110 - 01001 + 01010 - 01100 + 01111 + 10001 + 10010 + 10100 + 10111 - 11000 + 11011 + 11101 - 11110, 00001 - 00010 - 00100 + 00111 - 01000 - 01011 - 01101 - 01110 - 10000 + 10011 - 10101 + 10110 + 11001 + 11010 - 11100 - 11111]\n"
     ]
    }
   ],
   "source": [
    "def apply_1qubit_operation(operation: Matrix, target_qubit: int, initial_state: Expr, num_qubits: int) -> Expr:\n",
    "    \"\"\"\n",
    "    This method applies the specified 1-qubit operation to the initial state, on the desired\n",
    "    target qubit, and returns the resulting quantum state.\n",
    "    \n",
    "    :param operation: 2x2 matrix to be applied. \n",
    "    :param target_qubit: Qubit on which it should be applied, one of {0, 1, ..., num_qubits - 1}.\n",
    "    :param initial_state: Initial quantum state, as an expression in terms of elements of the\n",
    "        computational basis, expressed as binary strings.\n",
    "    :param num_qubits: Number of qubits of the quantum state.\n",
    "    :return: New quantum state after applying the operation.\n",
    "    \"\"\"\n",
    "    \n",
    "    final_state = 0\n",
    "\n",
    "    for i in range(2 ** num_qubits):\n",
    "        index = convert_to_binary_string(i, num_qubits)\n",
    "\n",
    "        alpha = initial_state.coeff(index)\n",
    "        state_0, state_1 = get_basis_states_one_bit_apart(index, target_qubit)\n",
    "\n",
    "        initial_qubit_state = Matrix([[1], [0]]) if index.name[target_qubit] == '0' else Matrix([[0], [1]])\n",
    "        final_qubit_state = operation * initial_qubit_state\n",
    "\n",
    "        final_state += alpha * (final_qubit_state[0] * state_0 + final_qubit_state[1] * state_1)\n",
    "\n",
    "    return final_state\n",
    "\n",
    "def get_basis_states_one_bit_apart(reference_state: Symbol, target: int) -> tuple:\n",
    "    \"\"\"\n",
    "    Method used to get the two binary strings that would be obtained if we modify any\n",
    "    one bit of an incoming binary string. E.g.: if we receive the string 00000 and the\n",
    "    integer '1' as target, the two possible outputs will be 00000 and 01000.\n",
    "    \n",
    "    :param reference_state: Incoming binary string. \n",
    "    :param target: Bit that would be altered, one of {0, 1, ..., length - 1}.\n",
    "    :return: Tuple with the new two binary strings.\n",
    "    \"\"\"\n",
    "    reference_state = reference_state.name\n",
    "\n",
    "    return Symbol(reference_state[:target] + '0' + reference_state[target + 1:]), \\\n",
    "           Symbol(reference_state[:target] + '1' + reference_state[target + 1:])\n",
    "\n",
    "B = [L0, L1]  # Basis associated with the code C.\n",
    "for operator in [X, Y, Z]:\n",
    "    for u in range(num_qubits):\n",
    "        for generator in [L0, L1]:\n",
    "            B.append(\n",
    "                apply_1qubit_operation(operator, u, generator, num_qubits)\n",
    "            )\n",
    "print('B:', B)"
   ]
  },
  {
   "cell_type": "markdown",
   "metadata": {},
   "source": [
    "## 2. Finding the change of basis matrices"
   ]
  },
  {
   "cell_type": "markdown",
   "metadata": {},
   "source": [
    "Now we will define the matrix $M$ used to transform from basis $B$ to basis $B_c$. We will define it in two ways, firstly by putting the vectors from $B$, expressed in tearms of $B_c$, as columns. Then, we will define it by using derivatives. After that, we will ensure that we can get all vectors of the base $B$ expressed in the computational basis $B_c$ and that matches the expression of the basis $B$ obtained earlier, and also that both matrices $M$ are equal, as confirmations."
   ]
  },
  {
   "cell_type": "code",
   "execution_count": 6,
   "metadata": {},
   "outputs": [],
   "source": [
    "M = Matrix([\n",
    "    [\n",
    "        B[column].coeff(convert_to_binary_string(row, num_qubits))\n",
    "        for column in range(2 ** num_qubits)\n",
    "    ] for row in range(2 ** num_qubits)\n",
    "])"
   ]
  },
  {
   "cell_type": "code",
   "execution_count": 7,
   "metadata": {},
   "outputs": [],
   "source": [
    "M2 = Matrix([\n",
    "    [\n",
    "        diff(B[j], B_c[i]) for j in range(2 ** num_qubits)\n",
    "    ] for i in range(2 ** num_qubits)\n",
    "])"
   ]
  },
  {
   "cell_type": "code",
   "execution_count": 8,
   "metadata": {},
   "outputs": [
    {
     "name": "stdout",
     "output_type": "stream",
     "text": [
      "Successfully proven that M transforms vectors from B to B_c.\n",
      "Shape of M == M2: (32, 32)\n"
     ]
    }
   ],
   "source": [
    "def get_computational_basis_vector_state(i: int, num_qubits: int) -> Matrix:\n",
    "    \"\"\"\n",
    "    This methods returns a column vector that expresses the quantum state from the\n",
    "    computational basis expressed by the integer 'i', for a quantum state with a total\n",
    "    of 'num_qubits' qubits.\n",
    "\n",
    "    :param i: Non-negative integer in decimal basis.\n",
    "    :param num_qubits: Number of qubits of the resulting quantum state.\n",
    "    :return: Sympy matrix containing the quantum state as a column vector.\n",
    "    \"\"\"\n",
    "    return Matrix([\n",
    "        [\n",
    "            1 if i == j else 0\n",
    "        ] for j in range(2 ** num_qubits)\n",
    "    ])\n",
    "\n",
    "def transform_vector_state_to_expression_state(state: Matrix, num_qubits: int) -> Expr:\n",
    "    \"\"\"\n",
    "    This method converts a column vector to an expression in terms of the states of\n",
    "    the corresponding basis, as binary strings, to be used in methods that use these\n",
    "    binary strings to perform calculations.\n",
    "    \n",
    "    :param state: Matrix containing a quantum state expressed as a column vector.\n",
    "    :param num_qubits: Number of qubits of the quantum state.\n",
    "    :return: Quantum state, as expression with its variables as binary strings.\n",
    "    \"\"\"\n",
    "\n",
    "    result = 0\n",
    "\n",
    "    for j in range(state.shape[0]):\n",
    "        binary_string = convert_to_binary_string(j, num_qubits)\n",
    "        result += state[j, 0] * binary_string\n",
    "\n",
    "    return result\n",
    "\n",
    "assert 0 == sum(M - M2)\n",
    "for i in range(2 ** num_qubits):\n",
    "    state_B_vector = M * get_computational_basis_vector_state(i, num_qubits)\n",
    "    state_B_c_expression = transform_vector_state_to_expression_state(state_B_vector, num_qubits)\n",
    "    assert state_B_c_expression == B[i]  # The program will fail if the assertion is false.\n",
    "print('Successfully proven that M transforms vectors from B to B_c.')\n",
    "\n",
    "print('Shape of M == M2:', M.shape)\n",
    "#pprint(M)"
   ]
  },
  {
   "cell_type": "markdown",
   "metadata": {},
   "source": [
    "## 3. Finding the unitary error operators"
   ]
  },
  {
   "cell_type": "markdown",
   "metadata": {},
   "source": [
    "Now we will define the qubit errors $W_u$ in terms of the coefficients $A_u$, $B_u$, $C_u$ and $D_u$."
   ]
  },
  {
   "cell_type": "code",
   "execution_count": 9,
   "metadata": {},
   "outputs": [
    {
     "name": "stdout",
     "output_type": "stream",
     "text": [
      "W[0]: Matrix([[A_0 + I*B_0, -C_0 + I*D_0], [C_0 + I*D_0, A_0 - I*B_0]])\n",
      "W[1]: Matrix([[A_1 + I*B_1, -C_1 + I*D_1], [C_1 + I*D_1, A_1 - I*B_1]])\n",
      "W[2]: Matrix([[A_2 + I*B_2, -C_2 + I*D_2], [C_2 + I*D_2, A_2 - I*B_2]])\n",
      "W[3]: Matrix([[A_3 + I*B_3, -C_3 + I*D_3], [C_3 + I*D_3, A_3 - I*B_3]])\n",
      "W[4]: Matrix([[A_4 + I*B_4, -C_4 + I*D_4], [C_4 + I*D_4, A_4 - I*B_4]])\n"
     ]
    }
   ],
   "source": [
    "A = symbols('A_0:%d' % num_qubits)  # Define A_0 through A_4.\n",
    "B = symbols('B_0:%d' % num_qubits)  # Define B_0 through B_4.\n",
    "C = symbols('C_0:%d' % num_qubits)  # Define C_0 through C_4.\n",
    "D = symbols('D_0:%d' % num_qubits)  # Define D_0 through D_4.\n",
    "V = A + B + C + D\n",
    "\n",
    "W_u = []\n",
    "for u in range(num_qubits):  # Define W_0 through W_4.\n",
    "    W_u.append(Matrix([\n",
    "        [A[u] + I * B[u], -C[u] + I * D[u]],\n",
    "        [C[u] + I * D[u], A[u] - I * B[u]]\n",
    "    ]))\n",
    "    print('W[%d]:' % u, W_u[u])"
   ]
  },
  {
   "cell_type": "markdown",
   "metadata": {},
   "source": [
    "With this, we can express the unitary error operator for independent qubit errors $W$, and that same operator in the base $B$, $W_B$:"
   ]
  },
  {
   "cell_type": "code",
   "execution_count": 10,
   "metadata": {},
   "outputs": [
    {
     "name": "stdout",
     "output_type": "stream",
     "text": [
      "Shape of W: (32, 32)\n"
     ]
    }
   ],
   "source": [
    "W = TensorProduct(W_u[0], W_u[1], W_u[2], W_u[3], W_u[4])\n",
    "print('Shape of W:', W.shape)\n",
    "#pprint(W)"
   ]
  },
  {
   "cell_type": "code",
   "execution_count": 11,
   "metadata": {},
   "outputs": [
    {
     "name": "stdout",
     "output_type": "stream",
     "text": [
      "Shape of W_B: (32, 32)\n",
      "W[0][0] = 16*A_0*A_1*A_2*A_3*A_4 + 16*I*A_0*A_1*B_3*C_2*C_4 + 16*I*A_0*A_2*B_1*D_3*D_4 + 16*I*A_0*A_3*B_4*D_1*D_2 + 16*I*A_0*A_4*B_2*C_1*C_3 + 16*A_0*B_1*B_4*C_2*C_3 + 16*A_0*B_2*B_3*D_1*D_4 + 16*A_0*C_1*C_4*D_2*D_3 + 16*I*A_1*A_2*B_4*C_0*C_3 + 16*I*A_1*A_3*B_2*D_0*D_4 + 16*I*A_1*A_4*B_0*D_2*D_3 + 16*A_1*B_0*B_2*C_3*C_4 + 16*A_1*B_3*B_4*D_0*D_2 + 16*A_1*C_0*C_2*D_3*D_4 + 16*I*A_2*A_3*B_0*C_1*C_4 + 16*I*A_2*A_4*B_3*D_0*D_1 + 16*A_2*B_0*B_4*D_1*D_3 + 16*A_2*B_1*B_3*C_0*C_4 + 16*A_2*C_1*C_3*D_0*D_4 + 16*I*A_3*A_4*B_1*C_0*C_2 + 16*A_3*B_0*B_1*D_2*D_4 + 16*A_3*B_2*B_4*C_0*C_1 + 16*A_3*C_2*C_4*D_0*D_1 + 16*A_4*B_0*B_3*C_1*C_2 + 16*A_4*B_1*B_2*D_0*D_3 + 16*A_4*C_0*C_3*D_1*D_2 + 16*I*B_0*B_1*B_2*B_3*B_4 + 16*I*B_0*C_2*C_3*D_1*D_4 + 16*I*B_1*C_3*C_4*D_0*D_2 + 16*I*B_2*C_0*C_4*D_1*D_3 + 16*I*B_3*C_0*C_1*D_2*D_4 + 16*I*B_4*C_1*C_2*D_0*D_3\n"
     ]
    }
   ],
   "source": [
    "W_B = Dagger(M) * W * M\n",
    "print('Shape of W_B:', W.shape)\n",
    "print('W[0][0] =', expand(W_B[0, 0]))"
   ]
  },
  {
   "cell_type": "markdown",
   "metadata": {},
   "source": [
    "As discussed in the article, each of the entries in matrix $W_B$ is a homogeneous polynomial of degree 5 in the set of variables $V = \\{A_u, B_u, C_u, D_u | 0 \\le u \\lt 5\\}$, and degree 1 in the subsets of variables of $V$ with subscript $u$ for all $0 \\le u \\lt 5$. Each of this polynomials includes exactly 32 monomials."
   ]
  },
  {
   "cell_type": "markdown",
   "metadata": {},
   "source": [
    "## 4. Disturbing a quantum state"
   ]
  },
  {
   "cell_type": "markdown",
   "metadata": {},
   "source": [
    "We can define a generic quantum state in basis $B$, $\\phi_B$ (phi_B), as follows:"
   ]
  },
  {
   "cell_type": "code",
   "execution_count": 12,
   "metadata": {},
   "outputs": [
    {
     "name": "stdout",
     "output_type": "stream",
     "text": [
      "Shape of phi_B: (32, 1)\n",
      "Matrix([[w_0 + I*w_1], [w_2 + I*w_3], [0], [0], [0], [0], [0], [0], [0], [0], [0], [0], [0], [0], [0], [0], [0], [0], [0], [0], [0], [0], [0], [0], [0], [0], [0], [0], [0], [0], [0], [0]])\n"
     ]
    }
   ],
   "source": [
    "w = symbols('w_0:%d' % 4)  # Define w_0 through w_3.\n",
    "\n",
    "phi_B = Matrix([\n",
    "    [w[0] + I * w[1]],\n",
    "    [w[2] + I * w[3]]\n",
    "] + [\n",
    "    [0]\n",
    "    for _ in range(2 ** num_qubits - 2)\n",
    "])\n",
    "print('Shape of phi_B:', phi_B.shape)\n",
    "print(phi_B)"
   ]
  },
  {
   "cell_type": "markdown",
   "metadata": {},
   "source": [
    "The disturbed quantum state $\\psi_B$ (psi_B) is obtained by multiplying $\\phi_B$ by the error operator $W_B$:"
   ]
  },
  {
   "cell_type": "code",
   "execution_count": 13,
   "metadata": {},
   "outputs": [
    {
     "name": "stdout",
     "output_type": "stream",
     "text": [
      "Shape of psi_B: (32, 1)\n",
      "psi_B[0] = beta_0 = 16*A_0*A_1*A_2*A_3*A_4*w_0 + 16*I*A_0*A_1*A_2*A_3*A_4*w_1 + 16*I*A_0*A_1*B_2*B_4*D_3*w_2 - 16*A_0*A_1*B_2*B_4*D_3*w_3 + 16*I*A_0*A_1*B_3*C_2*C_4*w_0 - 16*A_0*A_1*B_3*C_2*C_4*w_1 - 16*A_0*A_1*C_3*D_2*D_4*w_2 - 16*I*A_0*A_1*C_3*D_2*D_4*w_3 + 16*I*A_0*A_2*B_1*D_3*D_4*w_0 - 16*A_0*A_2*B_1*D_3*D_4*w_1 - 16*A_0*A_2*B_3*B_4*C_1*w_2 - 16*I*A_0*A_2*B_3*B_4*C_1*w_3 + 16*I*A_0*A_2*C_3*C_4*D_1*w_2 - 16*A_0*A_2*C_3*C_4*D_1*w_3 - 16*A_0*A_3*B_1*B_2*C_4*w_2 - 16*I*A_0*A_3*B_1*B_2*C_4*w_3 + 16*I*A_0*A_3*B_4*D_1*D_2*w_0 - 16*A_0*A_3*B_4*D_1*D_2*w_1 + 16*I*A_0*A_3*C_1*C_2*D_4*w_2 - 16*A_0*A_3*C_1*C_2*D_4*w_3 + 16*I*A_0*A_4*B_1*B_3*D_2*w_2 - 16*A_0*A_4*B_1*B_3*D_2*w_3 + 16*I*A_0*A_4*B_2*C_1*C_3*w_0 - 16*A_0*A_4*B_2*C_1*C_3*w_1 - 16*A_0*A_4*C_2*D_1*D_3*w_2 - 16*I*A_0*A_4*C_2*D_1*D_3*w_3 + 16*A_0*B_1*B_4*C_2*C_3*w_0 + 16*I*A_0*B_1*B_4*C_2*C_3*w_1 + 16*A_0*B_2*B_3*D_1*D_4*w_0 + 16*I*A_0*B_2*B_3*D_1*D_4*w_1 + 16*A_0*C_1*C_4*D_2*D_3*w_0 + 16*I*A_0*C_1*C_4*D_2*D_3*w_1 + 16*I*A_1*A_2*B_0*B_3*D_4*w_2 - 16*A_1*A_2*B_0*B_3*D_4*w_3 + 16*I*A_1*A_2*B_4*C_0*C_3*w_0 - 16*A_1*A_2*B_4*C_0*C_3*w_1 - 16*A_1*A_2*C_4*D_0*D_3*w_2 - 16*I*A_1*A_2*C_4*D_0*D_3*w_3 - 16*A_1*A_3*B_0*B_4*C_2*w_2 - 16*I*A_1*A_3*B_0*B_4*C_2*w_3 + 16*I*A_1*A_3*B_2*D_0*D_4*w_0 - 16*A_1*A_3*B_2*D_0*D_4*w_1 + 16*I*A_1*A_3*C_0*C_4*D_2*w_2 - 16*A_1*A_3*C_0*C_4*D_2*w_3 + 16*I*A_1*A_4*B_0*D_2*D_3*w_0 - 16*A_1*A_4*B_0*D_2*D_3*w_1 - 16*A_1*A_4*B_2*B_3*C_0*w_2 - 16*I*A_1*A_4*B_2*B_3*C_0*w_3 + 16*I*A_1*A_4*C_2*C_3*D_0*w_2 - 16*A_1*A_4*C_2*C_3*D_0*w_3 + 16*A_1*B_0*B_2*C_3*C_4*w_0 + 16*I*A_1*B_0*B_2*C_3*C_4*w_1 + 16*A_1*B_3*B_4*D_0*D_2*w_0 + 16*I*A_1*B_3*B_4*D_0*D_2*w_1 + 16*A_1*C_0*C_2*D_3*D_4*w_0 + 16*I*A_1*C_0*C_2*D_3*D_4*w_1 + 16*I*A_2*A_3*B_0*C_1*C_4*w_0 - 16*A_2*A_3*B_0*C_1*C_4*w_1 + 16*I*A_2*A_3*B_1*B_4*D_0*w_2 - 16*A_2*A_3*B_1*B_4*D_0*w_3 - 16*A_2*A_3*C_0*D_1*D_4*w_2 - 16*I*A_2*A_3*C_0*D_1*D_4*w_3 - 16*A_2*A_4*B_0*B_1*C_3*w_2 - 16*I*A_2*A_4*B_0*B_1*C_3*w_3 + 16*I*A_2*A_4*B_3*D_0*D_1*w_0 - 16*A_2*A_4*B_3*D_0*D_1*w_1 + 16*I*A_2*A_4*C_0*C_1*D_3*w_2 - 16*A_2*A_4*C_0*C_1*D_3*w_3 + 16*A_2*B_0*B_4*D_1*D_3*w_0 + 16*I*A_2*B_0*B_4*D_1*D_3*w_1 + 16*A_2*B_1*B_3*C_0*C_4*w_0 + 16*I*A_2*B_1*B_3*C_0*C_4*w_1 + 16*A_2*C_1*C_3*D_0*D_4*w_0 + 16*I*A_2*C_1*C_3*D_0*D_4*w_1 + 16*I*A_3*A_4*B_0*B_2*D_1*w_2 - 16*A_3*A_4*B_0*B_2*D_1*w_3 + 16*I*A_3*A_4*B_1*C_0*C_2*w_0 - 16*A_3*A_4*B_1*C_0*C_2*w_1 - 16*A_3*A_4*C_1*D_0*D_2*w_2 - 16*I*A_3*A_4*C_1*D_0*D_2*w_3 + 16*A_3*B_0*B_1*D_2*D_4*w_0 + 16*I*A_3*B_0*B_1*D_2*D_4*w_1 + 16*A_3*B_2*B_4*C_0*C_1*w_0 + 16*I*A_3*B_2*B_4*C_0*C_1*w_1 + 16*A_3*C_2*C_4*D_0*D_1*w_0 + 16*I*A_3*C_2*C_4*D_0*D_1*w_1 + 16*A_4*B_0*B_3*C_1*C_2*w_0 + 16*I*A_4*B_0*B_3*C_1*C_2*w_1 + 16*A_4*B_1*B_2*D_0*D_3*w_0 + 16*I*A_4*B_1*B_2*D_0*D_3*w_1 + 16*A_4*C_0*C_3*D_1*D_2*w_0 + 16*I*A_4*C_0*C_3*D_1*D_2*w_1 + 16*I*B_0*B_1*B_2*B_3*B_4*w_0 - 16*B_0*B_1*B_2*B_3*B_4*w_1 + 16*I*B_0*B_1*C_2*C_4*D_3*w_2 - 16*B_0*B_1*C_2*C_4*D_3*w_3 - 16*B_0*B_2*C_1*D_3*D_4*w_2 - 16*I*B_0*B_2*C_1*D_3*D_4*w_3 - 16*B_0*B_3*C_4*D_1*D_2*w_2 - 16*I*B_0*B_3*C_4*D_1*D_2*w_3 + 16*I*B_0*B_4*C_1*C_3*D_2*w_2 - 16*B_0*B_4*C_1*C_3*D_2*w_3 + 16*I*B_0*C_2*C_3*D_1*D_4*w_0 - 16*B_0*C_2*C_3*D_1*D_4*w_1 + 16*I*B_1*B_2*C_0*C_3*D_4*w_2 - 16*B_1*B_2*C_0*C_3*D_4*w_3 - 16*B_1*B_3*C_2*D_0*D_4*w_2 - 16*I*B_1*B_3*C_2*D_0*D_4*w_3 - 16*B_1*B_4*C_0*D_2*D_3*w_2 - 16*I*B_1*B_4*C_0*D_2*D_3*w_3 + 16*I*B_1*C_3*C_4*D_0*D_2*w_0 - 16*B_1*C_3*C_4*D_0*D_2*w_1 + 16*I*B_2*B_3*C_1*C_4*D_0*w_2 - 16*B_2*B_3*C_1*C_4*D_0*w_3 - 16*B_2*B_4*C_3*D_0*D_1*w_2 - 16*I*B_2*B_4*C_3*D_0*D_1*w_3 + 16*I*B_2*C_0*C_4*D_1*D_3*w_0 - 16*B_2*C_0*C_4*D_1*D_3*w_1 + 16*I*B_3*B_4*C_0*C_2*D_1*w_2 - 16*B_3*B_4*C_0*C_2*D_1*w_3 + 16*I*B_3*C_0*C_1*D_2*D_4*w_0 - 16*B_3*C_0*C_1*D_2*D_4*w_1 + 16*I*B_4*C_1*C_2*D_0*D_3*w_0 - 16*B_4*C_1*C_2*D_0*D_3*w_1 - 16*C_0*C_1*C_2*C_3*C_4*w_2 - 16*I*C_0*C_1*C_2*C_3*C_4*w_3 + 16*I*D_0*D_1*D_2*D_3*D_4*w_2 - 16*D_0*D_1*D_2*D_3*D_4*w_3\n"
     ]
    }
   ],
   "source": [
    "psi_B = W_B * phi_B\n",
    "print('Shape of psi_B:', psi_B.shape)\n",
    "print('psi_B[0] = beta_0 =', expand(psi_B[0, 0]))"
   ]
  },
  {
   "cell_type": "markdown",
   "metadata": {},
   "source": [
    "The coordinates of $\\psi_B$ are homogeneous polynomials of degree 5 in the set of variables $V$, degree 1 in the subsets of variables of $V$ with subscript $u$ for all $0 \\le u \\lt 5$, and degree 1 in the variables $w_0$, $w_1$, $w_2$ and $w_3$. It can be expressed as $\\psi_B = (\\beta_0, \\beta_1, ..., \\beta_{31})_B$."
   ]
  },
  {
   "cell_type": "markdown",
   "metadata": {},
   "source": [
    "### 4.1 Proving Lemma 1"
   ]
  },
  {
   "cell_type": "markdown",
   "metadata": {},
   "source": [
    "Lemma 1 states that the coordinates of the disturbed state $\\psi_B = (\\beta_0, \\beta_1, ..., \\beta_{31})_B$ satisfy:\n",
    "\n",
    "$$ \\beta_{2s} = (a_s + ib_s)w_0 + (-b_s + ia_s)w_1 + (c_s + id_s)w_2 + (-d_s + ic_s)w_3, 0 \\le s \\lt 16 $$\n",
    "$$ \\beta_{2s+1} = (-c_s + id_s)w_0 + (-d_s - ic_s)w_1 + (a_s - ib_s)w_2 + (b_s + ia_s)w_3, s = 0 $$\n",
    "$$ \\beta_{2s+1} = (c_s - id_s)w_0 + (d_s + ic_s)w_1 + (-a_s + ib_s)w_2 + (-b_s - ia_s)w_3, 0 \\lt s \\lt 16  $$\n",
    "\n",
    "where\n",
    "\n",
    "$$ a_s = Re(\\beta_{2s}(1,0,0,0)), b_s = Im(\\beta_{2s}(1,0,0,0)), $$\n",
    "$$ c_s = Re(\\beta_{2s}(0,0,1,0)), d_s = Im(\\beta_{2s}(0,0,1,0)), $$\n",
    "$$ 0 \\le s \\lt 16 $$"
   ]
  },
  {
   "cell_type": "code",
   "execution_count": 14,
   "metadata": {},
   "outputs": [
    {
     "name": "stdout",
     "output_type": "stream",
     "text": [
      "Lemma 1 successfully proven for beta_2s with s = 0\n",
      "Lemma 1 successfully proven for beta_2s+1 with s = 0\n",
      "Lemma 1 successfully proven for beta_2s with s = 1\n",
      "Lemma 1 successfully proven for beta_2s+1 with s = 1\n",
      "Lemma 1 successfully proven for beta_2s with s = 2\n",
      "Lemma 1 successfully proven for beta_2s+1 with s = 2\n",
      "Lemma 1 successfully proven for beta_2s with s = 3\n",
      "Lemma 1 successfully proven for beta_2s+1 with s = 3\n",
      "Lemma 1 successfully proven for beta_2s with s = 4\n",
      "Lemma 1 successfully proven for beta_2s+1 with s = 4\n",
      "Lemma 1 successfully proven for beta_2s with s = 5\n",
      "Lemma 1 successfully proven for beta_2s+1 with s = 5\n",
      "Lemma 1 successfully proven for beta_2s with s = 6\n",
      "Lemma 1 successfully proven for beta_2s+1 with s = 6\n",
      "Lemma 1 successfully proven for beta_2s with s = 7\n",
      "Lemma 1 successfully proven for beta_2s+1 with s = 7\n",
      "Lemma 1 successfully proven for beta_2s with s = 8\n",
      "Lemma 1 successfully proven for beta_2s+1 with s = 8\n",
      "Lemma 1 successfully proven for beta_2s with s = 9\n",
      "Lemma 1 successfully proven for beta_2s+1 with s = 9\n",
      "Lemma 1 successfully proven for beta_2s with s = 10\n",
      "Lemma 1 successfully proven for beta_2s+1 with s = 10\n",
      "Lemma 1 successfully proven for beta_2s with s = 11\n",
      "Lemma 1 successfully proven for beta_2s+1 with s = 11\n",
      "Lemma 1 successfully proven for beta_2s with s = 12\n",
      "Lemma 1 successfully proven for beta_2s+1 with s = 12\n",
      "Lemma 1 successfully proven for beta_2s with s = 13\n",
      "Lemma 1 successfully proven for beta_2s+1 with s = 13\n",
      "Lemma 1 successfully proven for beta_2s with s = 14\n",
      "Lemma 1 successfully proven for beta_2s+1 with s = 14\n",
      "Lemma 1 successfully proven for beta_2s with s = 15\n",
      "Lemma 1 successfully proven for beta_2s+1 with s = 15\n"
     ]
    }
   ],
   "source": [
    "def separate_real_from_imaginary(expression: Expr) -> tuple:\n",
    "\n",
    "    polynomial = expand(expression)\n",
    "    monomials = expand(expression).args\n",
    "    \n",
    "    real = polynomial  # We will substract the imaginary terms from this polynomial.\n",
    "    imaginary = 0      # We will add the imaginary terms from this polynomial.\n",
    "    \n",
    "    for monomial in monomials:\n",
    "\n",
    "        i = 0\n",
    "        monomial_has_imaginary_unit = False\n",
    "        variables = monomial.args\n",
    "        while i < len(variables) and not monomial_has_imaginary_unit:\n",
    "            if variables[i] == I:\n",
    "                monomial_has_imaginary_unit = True\n",
    "            i += 1\n",
    "\n",
    "        if monomial_has_imaginary_unit:\n",
    "            real -= monomial\n",
    "            imaginary += monomial\n",
    "\n",
    "    return expand(real), expand(imaginary / I)\n",
    "\n",
    "\n",
    "def get_beta_2s(s: int, a_s: Expr, b_s: Expr, c_s: Expr, d_s: Expr, w: list) -> Expr:\n",
    "    \n",
    "    return expand(\n",
    "        (a_s + I*b_s) * w[0] + (-b_s + I*a_s) * w[1] +\n",
    "        (c_s + I*d_s) * w[2] + (-d_s + I*c_s) * w[3]\n",
    "    )\n",
    "\n",
    "\n",
    "def get_beta_2s_1(s: int, a_s: Expr, b_s: Expr, c_s: Expr, d_s: Expr, w: list) -> Expr:\n",
    "    \n",
    "    if s == 0:\n",
    "        return expand(  # When s = 0.\n",
    "            (-c_s + I*d_s) * w[0] + (-d_s - I*c_s) * w[1] +\n",
    "            (a_s - I*b_s) * w[2] + (b_s + I*a_s) * w[3]\n",
    "        )\n",
    "    else:\n",
    "        return expand(  # When 0 < s < 16.\n",
    "            (c_s - I*d_s) * w[0] + (d_s + I*c_s) * w[1] +\n",
    "            (-a_s + I*b_s) * w[2] + (-b_s - I*a_s) * w[3]\n",
    "        )\n",
    "\n",
    "a = []\n",
    "b = []\n",
    "c = []\n",
    "d = []\n",
    "for s in range(16):\n",
    "\n",
    "    beta_2s_1000 = psi_B[2 * s].subs(w[0], 1).subs(w[1], 0).subs(w[2], 0).subs(w[3], 0)\n",
    "    real, imaginary = separate_real_from_imaginary(beta_2s_1000)\n",
    "    a.append(real)       # Save a_s.\n",
    "    b.append(imaginary)  # Save b_s.\n",
    "\n",
    "    beta_2s_0010 = psi_B[2 * s].subs(w[0], 0).subs(w[1], 0).subs(w[2], 1).subs(w[3], 0)\n",
    "    real, imaginary = separate_real_from_imaginary(beta_2s_0010)\n",
    "    c.append(real)       # Save c_s.\n",
    "    d.append(imaginary)  # Save d_s.\n",
    "\n",
    "    # Test beta_2s.\n",
    "    beta_2s = get_beta_2s(s, a[s], b[s], c[s], d[s], w)\n",
    "    psi_B_2s = expand(psi_B[2 * s, 0])\n",
    "    assert beta_2s == psi_B_2s  # The program will fail if the assertion is false.\n",
    "    print('Lemma 1 successfully proven for beta_2s with s = %d' % s)\n",
    "\n",
    "    # Test beta_2s+1.\n",
    "    beta_2s_1 = get_beta_2s_1(s, a[s], b[s], c[s], d[s], w)\n",
    "    psi_B_2s_1 = expand(psi_B[2 * s + 1, 0])\n",
    "    assert beta_2s_1 == psi_B_2s_1  # The program will fail if the assertion is false.\n",
    "    print('Lemma 1 successfully proven for beta_2s+1 with s = %d' % s)"
   ]
  },
  {
   "cell_type": "markdown",
   "metadata": {},
   "source": [
    "### 4.2 Proving Lemma 3"
   ]
  },
  {
   "cell_type": "markdown",
   "metadata": {},
   "source": [
    "Lemma 3 states that\n",
    "\n",
    "$$ a_s = Re(\\beta_{2s}(1,0,0,0)), b_s = Im(\\beta_{2s}(1,0,0,0)), $$\n",
    "$$ c_s = Re(\\beta_{2s}(0,0,1,0)), d_s = Im(\\beta_{2s}(0,0,1,0)), $$\n",
    "$$ 0 \\le s \\lt 16 $$\n",
    "\n",
    "Satisfy the following properties:"
   ]
  },
  {
   "cell_type": "markdown",
   "metadata": {},
   "source": [
    "1) They are homogeneous polynomials of degree 5 in the set of variables $V = \\{A_u, B_u, C_u, D_u | 0 \\le u \\lt 5\\}$, degree 1 in the subsets of variables of $V$, and they are made up of 16 monomials."
   ]
  },
  {
   "cell_type": "code",
   "execution_count": 15,
   "metadata": {},
   "outputs": [
    {
     "name": "stdout",
     "output_type": "stream",
     "text": [
      "Lemma 3, first property, successfully proven for a[0] to a[15]\n",
      "Lemma 3, first property, successfully proven for b[0] to b[15]\n",
      "Lemma 3, first property, successfully proven for c[0] to c[15]\n",
      "Lemma 3, first property, successfully proven for d[0] to d[15]\n"
     ]
    }
   ],
   "source": [
    "for x, name in [(a, 'a'), (b, 'b'), (c, 'c'), (d, 'd')]:\n",
    "    for s in range(16):\n",
    "        \n",
    "        monomials = expand(x[s]).args\n",
    "        \n",
    "        # Polynomials made up of 16 monomials.\n",
    "        assert len(monomials) == 16\n",
    "        \n",
    "        for monomial in monomials:\n",
    "            \n",
    "            monomial_degree = 0\n",
    "            variables = monomial.args\n",
    "            \n",
    "            for variable in variables:\n",
    "                \n",
    "                if variable in V:\n",
    "                    monomial_degree += 1\n",
    "                    \n",
    "                    # Degree 1 in the subsets of variables of 𝑉.\n",
    "                    assert degree(monomial, gen=variable) == 1\n",
    "            \n",
    "            # Degree 5 in the set \n",
    "            assert monomial_degree == 5\n",
    "    \n",
    "    print('Lemma 3, first property, successfully proven for %s[0] to %s[%d]' % (name, name, s))"
   ]
  },
  {
   "cell_type": "markdown",
   "metadata": {},
   "source": [
    "2) The monomials of $a_s$, $b_s$, $c_s$ and $d_s$ for all $0 \\le s \\lt 16$ are different two by two."
   ]
  },
  {
   "cell_type": "code",
   "execution_count": 16,
   "metadata": {},
   "outputs": [
    {
     "name": "stdout",
     "output_type": "stream",
     "text": [
      "Lemma 3, second property, successfully proven for a[0] to a[15]\n",
      "Lemma 3, second property, successfully proven for b[0] to b[15]\n",
      "Lemma 3, second property, successfully proven for c[0] to c[15]\n",
      "Lemma 3, second property, successfully proven for d[0] to d[15]\n"
     ]
    }
   ],
   "source": [
    "all_monomials = {}  # Dictionary used as hash table to keep track of monomials seen.\n",
    "\n",
    "for x, name in [(a, 'a'), (b, 'b'), (c, 'c'), (d, 'd')]:\n",
    "    for s in range(16):\n",
    "        \n",
    "        monomials = expand(x[s]).args\n",
    "        \n",
    "        for monomial in monomials:\n",
    "            \n",
    "            monomial = str(monomial)\n",
    "            assert monomial not in all_monomials.keys()\n",
    "            all_monomials[monomial] = True\n",
    "    \n",
    "    print('Lemma 3, second property, successfully proven for %s[0] to %s[%d]' % (name, name, s))"
   ]
  },
  {
   "cell_type": "markdown",
   "metadata": {},
   "source": [
    "3) For all $0 \\le s \\lt 16$, in each of $a_s$, $b_s$, $c_s$ or $d_s$, every pair of different monomials share exactly one variable."
   ]
  },
  {
   "cell_type": "code",
   "execution_count": 17,
   "metadata": {},
   "outputs": [
    {
     "name": "stdout",
     "output_type": "stream",
     "text": [
      "Lemma 3, third property, successfully proven for a[0] to a[15]\n",
      "Lemma 3, third property, successfully proven for b[0] to b[15]\n",
      "Lemma 3, third property, successfully proven for c[0] to c[15]\n",
      "Lemma 3, third property, successfully proven for d[0] to d[15]\n"
     ]
    }
   ],
   "source": [
    "for x, name in [(a, 'a'), (b, 'b'), (c, 'c'), (d, 'd')]:\n",
    "    for s in range(16):\n",
    "        \n",
    "        monomials = expand(x[s]).args\n",
    "        \n",
    "        i = 0\n",
    "        while i < len(monomials):\n",
    "            monomial_1 = monomials[i]\n",
    "            variables_monomial_1 = monomial_1.args\n",
    "            \n",
    "            j = i + 1\n",
    "            while j < len(monomials):\n",
    "                monomial_2 = monomials[j]\n",
    "                variables_monomial_2 = monomial_2.args\n",
    "                \n",
    "                shared_variables = 0\n",
    "                for variable in variables_monomial_2:\n",
    "                    if variable in V and variable in variables_monomial_1:\n",
    "                        shared_variables += 1\n",
    "                \n",
    "                # Every pair of different monomials within the same polynomial share exactly one variable.\n",
    "                assert shared_variables == 1\n",
    "                \n",
    "                j += 1            \n",
    "            i += 1\n",
    "    \n",
    "    print('Lemma 3, third property, successfully proven for %s[0] to %s[%d]' % (name, name, s))"
   ]
  },
  {
   "cell_type": "markdown",
   "metadata": {},
   "source": [
    "## 5. Classification of monomials by type"
   ]
  },
  {
   "cell_type": "code",
   "execution_count": 18,
   "metadata": {},
   "outputs": [
    {
     "name": "stdout",
     "output_type": "stream",
     "text": [
      "Monomial type count proven for s = 0\n",
      "Monomial type count proven for s = 1\n",
      "Monomial type count proven for s = 2\n",
      "Monomial type count proven for s = 3\n",
      "Monomial type count proven for s = 4\n",
      "Monomial type count proven for s = 5\n",
      "Monomial type count proven for s = 6\n",
      "Monomial type count proven for s = 7\n",
      "Monomial type count proven for s = 8\n",
      "Monomial type count proven for s = 9\n",
      "Monomial type count proven for s = 10\n",
      "Monomial type count proven for s = 11\n",
      "Monomial type count proven for s = 12\n",
      "Monomial type count proven for s = 13\n",
      "Monomial type count proven for s = 14\n",
      "Monomial type count proven for s = 15\n"
     ]
    }
   ],
   "source": [
    "def count_As_in_monomial(monomial: Expr, A: list) -> int:\n",
    "    \n",
    "    result = 0\n",
    "    \n",
    "    for variable in monomial.args:\n",
    "        if variable in A:\n",
    "            result += 1\n",
    "            \n",
    "    return result\n",
    "\n",
    "\n",
    "for s in range(16):\n",
    "    \n",
    "    # Create the list that will keep track of how many instances of each type of monomial are there.\n",
    "    # E.g.: if type_counter[5] == 1, that means that there is one monomial with 5 A's.\n",
    "    # The array goes from counter[0] (0 A's), to counter[5] (5 A's).\n",
    "    type_counter = [0 for _ in range(len(A) + 1)]\n",
    "\n",
    "    for x, name in [(a, 'a'), (b, 'b'), (c, 'c'), (d, 'd')]:\n",
    "\n",
    "        monomials = expand(x[s]).args\n",
    "\n",
    "        for monomial in monomials:\n",
    "\n",
    "            num_As = count_As_in_monomial(monomial, A)\n",
    "            type_counter[num_As] += 1\n",
    "\n",
    "    if s == 0:\n",
    "        assert type_counter == [18, 15, 30, 0, 0, 1]\n",
    "    elif 0 < s < 16:\n",
    "        assert type_counter == [15, 26, 16, 6, 1, 0]\n",
    "    print('Monomial type count proven for s = %d' % (s))"
   ]
  },
  {
   "cell_type": "markdown",
   "metadata": {},
   "source": [
    "## 6. Search of subsets of variables $V_s$"
   ]
  },
  {
   "cell_type": "markdown",
   "metadata": {},
   "source": [
    "The reader may find an algorithm for the identification of subsets $V_s$ in the file \"aux_functions.py\", included in this very repository. The following code imports and runs the algorithm from that file."
   ]
  },
  {
   "cell_type": "code",
   "execution_count": 19,
   "metadata": {},
   "outputs": [
    {
     "name": "stdout",
     "output_type": "stream",
     "text": [
      "\n",
      "s = 0\n",
      "   Valid V_0 found: ['A_0', 'A_1', 'A_2', 'B_1', 'B_2', 'B_3', 'C_3', 'D_0']\n",
      "   1 possible V_0('s) found.\n",
      "\n",
      "s = 1 (avoiding any variable A_u, for all 0 ≤ u < 5)\n",
      "   Valid V_1 found: ['B_0', 'B_1', 'B_2', 'B_3', 'C_1', 'C_2', 'D_0', 'D_3']\n",
      "   1 possible V_1('s) found.\n",
      "\n",
      "s = 2 (avoiding any variable A_u, for all 0 ≤ u < 5)\n",
      "   Valid V_2 found: ['B_1', 'B_2', 'B_3', 'B_4', 'C_2', 'C_3', 'D_1', 'D_4']\n",
      "   1 possible V_2('s) found.\n",
      "\n",
      "s = 3 (avoiding any variable A_u, for all 0 ≤ u < 5)\n",
      "   Valid V_3 found: ['B_0', 'B_1', 'B_2', 'B_4', 'C_0', 'C_1', 'D_2', 'D_4']\n",
      "   1 possible V_3('s) found.\n",
      "\n",
      "s = 4 (avoiding any variable A_u, for all 0 ≤ u < 5)\n",
      "   Valid V_4 found: ['B_0', 'B_1', 'B_3', 'B_4', 'C_0', 'C_4', 'D_1', 'D_3']\n",
      "   1 possible V_4('s) found.\n",
      "\n",
      "s = 5 (avoiding any variable A_u, for all 0 ≤ u < 5)\n",
      "   Valid V_5 found: ['B_0', 'B_1', 'B_2', 'B_4', 'C_0', 'C_1', 'D_2', 'D_4']\n",
      "   1 possible V_5('s) found.\n",
      "\n",
      "s = 6 (avoiding any variable A_u, for all 0 ≤ u < 5)\n",
      "   Valid V_6 found: ['B_0', 'B_2', 'C_0', 'C_2', 'C_3', 'C_4', 'D_3', 'D_4']\n",
      "   1 possible V_6('s) found.\n",
      "\n",
      "s = 7 (avoiding any variable A_u, for all 0 ≤ u < 5)\n",
      "   Valid V_7 found: ['B_1', 'B_3', 'C_0', 'C_1', 'C_3', 'C_4', 'D_0', 'D_4']\n",
      "   1 possible V_7('s) found.\n",
      "\n",
      "s = 8 (avoiding any variable A_u, for all 0 ≤ u < 5)\n",
      "   Valid V_8 found: ['B_0', 'B_2', 'C_0', 'C_2', 'C_3', 'C_4', 'D_3', 'D_4']\n",
      "   1 possible V_8('s) found.\n",
      "\n",
      "s = 9 (avoiding any variable A_u, for all 0 ≤ u < 5)\n",
      "   Valid V_9 found: ['B_0', 'B_3', 'C_0', 'C_1', 'C_2', 'C_3', 'D_1', 'D_2']\n",
      "   1 possible V_9('s) found.\n",
      "\n",
      "s = 10 (avoiding any variable A_u, for all 0 ≤ u < 5)\n",
      "   Valid V_10 found: ['B_1', 'B_4', 'C_1', 'C_2', 'C_3', 'C_4', 'D_2', 'D_3']\n",
      "   1 possible V_10('s) found.\n",
      "\n",
      "s = 11 (avoiding any variable A_u, for all 0 ≤ u < 5)\n",
      "   Valid V_11 found: ['B_0', 'B_1', 'B_2', 'B_4', 'C_0', 'C_1', 'D_2', 'D_4']\n",
      "   1 possible V_11('s) found.\n",
      "\n",
      "s = 12 (avoiding any variable A_u, for all 0 ≤ u < 5)\n",
      "   Valid V_12 found: ['B_0', 'B_1', 'B_2', 'B_4', 'C_0', 'C_1', 'D_2', 'D_4']\n",
      "   1 possible V_12('s) found.\n",
      "\n",
      "s = 13 (avoiding any variable A_u, for all 0 ≤ u < 5)\n",
      "   Valid V_13 found: ['B_0', 'B_1', 'B_2', 'B_3', 'C_1', 'C_2', 'D_0', 'D_3']\n",
      "   1 possible V_13('s) found.\n",
      "\n",
      "s = 14 (avoiding any variable A_u, for all 0 ≤ u < 5)\n",
      "   Valid V_14 found: ['B_1', 'B_2', 'B_3', 'B_4', 'C_2', 'C_3', 'D_1', 'D_4']\n",
      "   1 possible V_14('s) found.\n",
      "\n",
      "s = 15 (avoiding any variable A_u, for all 0 ≤ u < 5)\n",
      "   Valid V_15 found: ['B_0', 'B_1', 'B_3', 'B_4', 'C_0', 'C_4', 'D_1', 'D_3']\n",
      "   1 possible V_15('s) found.\n"
     ]
    }
   ],
   "source": [
    "import aux_functions\n",
    "import importlib\n",
    "importlib.reload(aux_functions)\n",
    "\n",
    "\n",
    "# If this parameter is marked as False, for each 0 ≤ s < 16, the program will look\n",
    "# for just one valid value of V_s.\n",
    "get_all_combinations = False\n",
    "\n",
    "# If this parameter is marked as True, for 0 < s < 16, the program will look for\n",
    "# solutions that do not include any variable A_u, for all 0 ≤ u < 5.\n",
    "avoid_As_where_possible = True\n",
    "\n",
    "# Run:\n",
    "for s in range(0, 16):\n",
    "    \n",
    "    if avoid_As_where_possible and s > 0:\n",
    "        print('\\ns =', s, '(avoiding any variable A_u, for all 0 ≤ u < 5)')\n",
    "        valid_variables = B + C + D\n",
    "    else:\n",
    "        print('\\ns =', s)\n",
    "        valid_variables = A + B + C + D\n",
    "    \n",
    "    result = []\n",
    "    monomials = aux_functions.get_all_monomials(a[s], b[s], c[s], d[s], valid_variables)\n",
    "    \n",
    "    aux_functions.search_configurations_recursively(s, {}, monomials, result, get_all_combinations)\n",
    "    print('  ', len(result), 'possible V_' + str(s) + '(\\'s) found.')"
   ]
  },
  {
   "cell_type": "markdown",
   "metadata": {},
   "source": [
    "We will test a few sets of length 8 obtained during the development of the article, to ensure they are valid."
   ]
  },
  {
   "cell_type": "code",
   "execution_count": 20,
   "metadata": {},
   "outputs": [
    {
     "name": "stdout",
     "output_type": "stream",
     "text": [
      "Assertion tested for V_1\n",
      "Assertion tested for V_2\n",
      "Assertion tested for V_3\n",
      "Assertion tested for V_4\n",
      "Assertion tested for V_5\n",
      "Assertion tested for V_6\n",
      "Assertion tested for V_7\n",
      "Assertion tested for V_8\n",
      "Assertion tested for V_9\n",
      "Assertion tested for V_10\n",
      "Assertion tested for V_11\n",
      "Assertion tested for V_12\n",
      "Assertion tested for V_13\n",
      "Assertion tested for V_14\n",
      "Assertion tested for V_15\n"
     ]
    }
   ],
   "source": [
    "V_1  = [B[3], B[4], C[0], C[2], D[0], D[2], D[3], D[4]]\n",
    "V_2  = [B[2], B[3], C[1], C[4], D[1], D[2], D[3], D[4]]\n",
    "V_3  = [B[2], B[3], C[1], C[4], D[1], D[2], D[3], D[4]]\n",
    "V_4  = [B[2], B[3], C[1], C[4], D[1], D[2], D[3], D[4]]\n",
    "V_5  = [B[2], B[3], C[1], C[4], D[1], D[2], D[3], D[4]]\n",
    "V_6  = [B[3], B[4], C[0], C[2], D[0], D[2], D[3], D[4]]\n",
    "V_7  = [B[2], B[3], C[1], C[4], D[1], D[2], D[3], D[4]]\n",
    "V_8  = [B[3], B[4], C[0], C[2], D[0], D[2], D[3], D[4]]\n",
    "V_9  = [B[0], B[4], C[1], C[3], D[0], D[1], D[3], D[4]]\n",
    "V_10 = [B[2], B[3], C[1], C[4], D[1], D[2], D[3], D[4]]\n",
    "V_11 = [B[0], B[4], C[1], C[3], D[0], D[1], D[3], D[4]]\n",
    "V_12 = [B[0], B[1], C[2], C[4], D[0], D[1], D[2], D[4]]\n",
    "V_13 = [B[2], B[3], C[1], C[4], D[1], D[2], D[3], D[4]]\n",
    "V_14 = [B[2], B[3], C[1], C[4], D[1], D[2], D[3], D[4]]\n",
    "V_15 = [B[3], B[4], C[0], C[2], D[0], D[2], D[3], D[4]]\n",
    "valid_variables = A + B + C + D\n",
    "\n",
    "sets_to_test = [V_1, V_2, V_3, V_4, V_5, V_6, V_7, V_8, V_9, V_10, V_11, V_12, V_13, V_14, V_15]\n",
    "set_index = 0\n",
    "while set_index < len(sets_to_test):\n",
    "    set_under_test = sets_to_test[set_index]\n",
    "    \n",
    "    s = set_index + 1\n",
    "    for polynomial in [a[s], b[s], c[s], d[s]]:\n",
    "        for monomial in expand(polynomial).args:\n",
    "            variables = [var for var in monomial.args if var in valid_variables]\n",
    "            \n",
    "            # The intersection of each of the previous sets with the set of variables of\n",
    "            # any monomial of a_0, b_0, c_0 or d_0 has an odd cardinal.\n",
    "            assert len(intersection(set_under_test, variables)) % 2 == 1\n",
    "        \n",
    "    print('Assertion tested for V_' + str(s))\n",
    "    set_index += 1"
   ]
  },
  {
   "cell_type": "markdown",
   "metadata": {},
   "source": [
    "## 7. Checking the intersection of $V'_0$, $V'_1$, $V'_2$, $V'_3$ and $V'_4$ with different monomials"
   ]
  },
  {
   "cell_type": "markdown",
   "metadata": {},
   "source": [
    "Some valid definitions of $V_s$ will now be used to test several properties."
   ]
  },
  {
   "cell_type": "code",
   "execution_count": 21,
   "metadata": {},
   "outputs": [
    {
     "name": "stdout",
     "output_type": "stream",
     "text": [
      "Assertion tested for V_prime_0\n",
      "Assertion tested for V_prime_1\n",
      "Assertion tested for V_prime_2\n",
      "Assertion tested for V_prime_3\n",
      "Assertion tested for V_prime_4\n"
     ]
    }
   ],
   "source": [
    "V_prime_0 = [A[0], B[0], B[3], B[4], C[2], D[2], D[3], D[4]]\n",
    "V_prime_1 = [A[1], B[1], B[2], B[3], C[4], D[2], D[3], D[4]]\n",
    "V_prime_2 = [A[2], B[0], C[0], C[3], C[4], D[2], D[3], D[4]]\n",
    "V_prime_3 = [A[3], B[1], B[2], B[4], C[2], D[1], D[3], D[4]]\n",
    "V_prime_4 = [A[4], B[1], C[1], C[2], C[3], D[2], D[3], D[4]]\n",
    "valid_variables = A + B + C + D\n",
    "\n",
    "sets_to_test = [V_prime_0, V_prime_1, V_prime_2, V_prime_3, V_prime_4]\n",
    "set_index = 0\n",
    "while set_index < len(sets_to_test):\n",
    "    set_under_test = sets_to_test[set_index]\n",
    "    \n",
    "    for polynomial in [a[0], b[0], c[0], d[0]]:\n",
    "        for monomial in expand(polynomial).args:\n",
    "            variables = [var for var in monomial.args if var in valid_variables]\n",
    "            \n",
    "            # The intersection of each of the previous sets with the set of variables of\n",
    "            # any monomial of a_0, b_0, c_0 or d_0 has an odd cardinal.\n",
    "            assert len(intersection(set_under_test, variables)) % 2 == 1\n",
    "    \n",
    "    # The intersection of each of the previous sets with the set of variables of the\n",
    "    # monomial A_0*A_1*A_2*A_3*A_4 is {A_0}, {A_1}, {A_2}, {A_3} and {A_4} respectively.\n",
    "    assert intersection(set_under_test, A) == [A[set_index]]\n",
    "        \n",
    "    print('Assertion tested for V_prime_' + str(set_index))\n",
    "    set_index += 1"
   ]
  },
  {
   "cell_type": "markdown",
   "metadata": {},
   "source": [
    "## 8. Checking the intersection of $V''$ with different monomials"
   ]
  },
  {
   "cell_type": "code",
   "execution_count": 22,
   "metadata": {},
   "outputs": [
    {
     "name": "stdout",
     "output_type": "stream",
     "text": [
      "Assertion tested for V_doubleprime_2\n",
      "Assertion tested for V_doubleprime_3\n",
      "Assertion tested for V_doubleprime_4\n",
      "Assertion tested for V_doubleprime_5\n",
      "Assertion tested for V_doubleprime_6\n",
      "Assertion tested for V_doubleprime_7\n",
      "Assertion tested for V_doubleprime_8\n",
      "Assertion tested for V_doubleprime_9\n",
      "Assertion tested for V_doubleprime_10\n",
      "Assertion tested for V_doubleprime_11\n",
      "Assertion tested for V_doubleprime_12\n",
      "Assertion tested for V_doubleprime_13\n",
      "Assertion tested for V_doubleprime_14\n",
      "Assertion tested for V_doubleprime_15\n",
      "Assertion tested for V_doubleprime_16\n"
     ]
    }
   ],
   "source": [
    "V_doubleprime_2  = [A[1], B[1], B[2], B[3], C[4], D[2], D[3], D[4]]\n",
    "V_doubleprime_3  = [A[1], B[2], C[0], C[1], C[3], D[0], D[2], D[3]]\n",
    "V_doubleprime_4  = [A[1], B[2], B[3], B[4], C[1], C[2], C[3], D[4]]\n",
    "V_doubleprime_5  = [A[0], B[0], B[3], B[4], C[2], D[2], D[3], D[4]]\n",
    "V_doubleprime_6  = [A[0], B[0], B[1], B[3], C[1], C[3], C[4], D[4]]\n",
    "V_doubleprime_7  = [A[0], B[2], B[3], B[4], C[0], C[3], C[4], D[2]]\n",
    "V_doubleprime_8  = [A[0], B[0], B[1], B[3], C[1], C[3], C[4], D[4]]\n",
    "V_doubleprime_9  = [A[0], B[1], B[2], B[4], C[1], D[0], D[2], D[4]]\n",
    "V_doubleprime_10 = [A[0], B[1], B[2], B[3], C[0], C[1], C[2], D[3]]\n",
    "V_doubleprime_11 = [A[0], B[0], B[2], B[4], C[1], C[2], C[4], D[1]]\n",
    "V_doubleprime_12 = [A[0], B[2], C[2], C[3], C[4], D[0], D[3], D[4]]\n",
    "V_doubleprime_13 = [A[0], B[0], B[3], B[4], C[2], D[2], D[3], D[4]]\n",
    "V_doubleprime_14 = [A[0], B[0], B[1], B[2], C[3], D[1], D[2], D[3]]\n",
    "V_doubleprime_15 = [A[0], B[1], C[0], C[2], C[4], D[1], D[2], D[4]]\n",
    "V_doubleprime_16 = [A[0], B[1], B[2], B[3], C[0], C[1], C[2], D[3]]\n",
    "valid_variables = A + B + C + D\n",
    "\n",
    "sets_to_test = [V_doubleprime_2, V_doubleprime_3, V_doubleprime_4, V_doubleprime_5, V_doubleprime_6,\n",
    "                V_doubleprime_7, V_doubleprime_8, V_doubleprime_9, V_doubleprime_10, V_doubleprime_11,\n",
    "                V_doubleprime_12, V_doubleprime_13, V_doubleprime_14, V_doubleprime_15, V_doubleprime_16]\n",
    "\n",
    "polynomials = [expand(polynomial) for polynomial in [a[0], b[0], c[0], d[0]]]\n",
    "monomials_from_a0 = expand(a[0]).args\n",
    "\n",
    "set_index = 0\n",
    "while set_index < len(sets_to_test):\n",
    "    set_under_test = sets_to_test[set_index]\n",
    "    \n",
    "    for polynomial in polynomials:\n",
    "        for monomial in polynomial.args:\n",
    "            variables = [var for var in monomial.args if var in valid_variables]\n",
    "            \n",
    "            # The intersection of each of the previous sets with the set of variables of\n",
    "            # any monomial of a_0, b_0, c_0 or d_0 has an odd cardinal.\n",
    "            assert len(intersection(set_under_test, variables)) % 2 == 1\n",
    "    \n",
    "    # The intersection of each of the previous sets with the corresponding monomial from\n",
    "    # a_0 equals the second variable from the monomial (the first one different from A_u).\n",
    "    target_monomial_object = monomials_from_a0[set_index + 1].args\n",
    "    target_monomial_list = [var for var in target_monomial_object if var in valid_variables]\n",
    "    expected_variable = target_monomial_list[1]\n",
    "    assert intersection(set_under_test, target_monomial_list) == [expected_variable]\n",
    "        \n",
    "    print('Assertion tested for V_doubleprime_' + str(set_index + 2))\n",
    "    set_index += 1"
   ]
  }
 ],
 "metadata": {
  "kernelspec": {
   "display_name": "Python 3",
   "language": "python",
   "name": "python3"
  },
  "language_info": {
   "codemirror_mode": {
    "name": "ipython",
    "version": 3
   },
   "file_extension": ".py",
   "mimetype": "text/x-python",
   "name": "python",
   "nbconvert_exporter": "python",
   "pygments_lexer": "ipython3",
   "version": "3.9.1"
  }
 },
 "nbformat": 4,
 "nbformat_minor": 4
}
